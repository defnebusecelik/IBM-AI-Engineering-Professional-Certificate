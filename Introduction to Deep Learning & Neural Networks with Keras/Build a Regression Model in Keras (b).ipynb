{
 "cells": [
  {
   "cell_type": "markdown",
   "id": "5340fc78",
   "metadata": {},
   "source": [
    "## Build a Regression Model in Keras (B)"
   ]
  },
  {
   "cell_type": "code",
   "execution_count": 1,
   "id": "7d7c823c",
   "metadata": {},
   "outputs": [],
   "source": [
    "import pandas as pd\n",
    "import numpy as np"
   ]
  },
  {
   "cell_type": "markdown",
   "id": "40fba357",
   "metadata": {},
   "source": [
    "The dataset is about the compressive strength of different samples of concrete based on the volumes of the different ingredients that were used to make them. Ingredients include:\n",
    "\n",
    "1. Cement\n",
    "\n",
    "2. Blast Furnace Slag\n",
    "\n",
    "3. Fly Ash\n",
    "\n",
    "4. Water\n",
    "\n",
    "5. Superplasticizer\n",
    "\n",
    "6. Coarse Aggregate\n",
    "\n",
    "7. Fine Aggregate\n",
    "\n",
    "Let's read the dataset into a pandas dataframe."
   ]
  },
  {
   "cell_type": "code",
   "execution_count": 2,
   "id": "9db8f7ae",
   "metadata": {},
   "outputs": [
    {
     "data": {
      "text/html": [
       "<div>\n",
       "<style scoped>\n",
       "    .dataframe tbody tr th:only-of-type {\n",
       "        vertical-align: middle;\n",
       "    }\n",
       "\n",
       "    .dataframe tbody tr th {\n",
       "        vertical-align: top;\n",
       "    }\n",
       "\n",
       "    .dataframe thead th {\n",
       "        text-align: right;\n",
       "    }\n",
       "</style>\n",
       "<table border=\"1\" class=\"dataframe\">\n",
       "  <thead>\n",
       "    <tr style=\"text-align: right;\">\n",
       "      <th></th>\n",
       "      <th>Cement</th>\n",
       "      <th>Blast Furnace Slag</th>\n",
       "      <th>Fly Ash</th>\n",
       "      <th>Water</th>\n",
       "      <th>Superplasticizer</th>\n",
       "      <th>Coarse Aggregate</th>\n",
       "      <th>Fine Aggregate</th>\n",
       "      <th>Age</th>\n",
       "      <th>Strength</th>\n",
       "    </tr>\n",
       "  </thead>\n",
       "  <tbody>\n",
       "    <tr>\n",
       "      <th>0</th>\n",
       "      <td>540.0</td>\n",
       "      <td>0.0</td>\n",
       "      <td>0.0</td>\n",
       "      <td>162.0</td>\n",
       "      <td>2.5</td>\n",
       "      <td>1040.0</td>\n",
       "      <td>676.0</td>\n",
       "      <td>28</td>\n",
       "      <td>79.99</td>\n",
       "    </tr>\n",
       "    <tr>\n",
       "      <th>1</th>\n",
       "      <td>540.0</td>\n",
       "      <td>0.0</td>\n",
       "      <td>0.0</td>\n",
       "      <td>162.0</td>\n",
       "      <td>2.5</td>\n",
       "      <td>1055.0</td>\n",
       "      <td>676.0</td>\n",
       "      <td>28</td>\n",
       "      <td>61.89</td>\n",
       "    </tr>\n",
       "    <tr>\n",
       "      <th>2</th>\n",
       "      <td>332.5</td>\n",
       "      <td>142.5</td>\n",
       "      <td>0.0</td>\n",
       "      <td>228.0</td>\n",
       "      <td>0.0</td>\n",
       "      <td>932.0</td>\n",
       "      <td>594.0</td>\n",
       "      <td>270</td>\n",
       "      <td>40.27</td>\n",
       "    </tr>\n",
       "    <tr>\n",
       "      <th>3</th>\n",
       "      <td>332.5</td>\n",
       "      <td>142.5</td>\n",
       "      <td>0.0</td>\n",
       "      <td>228.0</td>\n",
       "      <td>0.0</td>\n",
       "      <td>932.0</td>\n",
       "      <td>594.0</td>\n",
       "      <td>365</td>\n",
       "      <td>41.05</td>\n",
       "    </tr>\n",
       "    <tr>\n",
       "      <th>4</th>\n",
       "      <td>198.6</td>\n",
       "      <td>132.4</td>\n",
       "      <td>0.0</td>\n",
       "      <td>192.0</td>\n",
       "      <td>0.0</td>\n",
       "      <td>978.4</td>\n",
       "      <td>825.5</td>\n",
       "      <td>360</td>\n",
       "      <td>44.30</td>\n",
       "    </tr>\n",
       "  </tbody>\n",
       "</table>\n",
       "</div>"
      ],
      "text/plain": [
       "   Cement  Blast Furnace Slag  Fly Ash  Water  Superplasticizer  \\\n",
       "0   540.0                 0.0      0.0  162.0               2.5   \n",
       "1   540.0                 0.0      0.0  162.0               2.5   \n",
       "2   332.5               142.5      0.0  228.0               0.0   \n",
       "3   332.5               142.5      0.0  228.0               0.0   \n",
       "4   198.6               132.4      0.0  192.0               0.0   \n",
       "\n",
       "   Coarse Aggregate  Fine Aggregate  Age  Strength  \n",
       "0            1040.0           676.0   28     79.99  \n",
       "1            1055.0           676.0   28     61.89  \n",
       "2             932.0           594.0  270     40.27  \n",
       "3             932.0           594.0  365     41.05  \n",
       "4             978.4           825.5  360     44.30  "
      ]
     },
     "execution_count": 2,
     "metadata": {},
     "output_type": "execute_result"
    }
   ],
   "source": [
    "df=pd.read_csv(\"concrete_data.csv\")\n",
    "df.head()"
   ]
  },
  {
   "cell_type": "markdown",
   "id": "cea836e7",
   "metadata": {},
   "source": [
    "Let's check how many data points we have."
   ]
  },
  {
   "cell_type": "code",
   "execution_count": 3,
   "id": "dc094491",
   "metadata": {},
   "outputs": [
    {
     "data": {
      "text/plain": [
       "(1030, 9)"
      ]
     },
     "execution_count": 3,
     "metadata": {},
     "output_type": "execute_result"
    }
   ],
   "source": [
    "df.shape"
   ]
  },
  {
   "cell_type": "markdown",
   "id": "b973fad6",
   "metadata": {},
   "source": [
    "So, there are approximately 1000 samples to train our model on. \n",
    "Because of the few samples, we have to be careful not to overfit the training data.\n",
    "\n",
    "Let's check the dataset for any missing values."
   ]
  },
  {
   "cell_type": "code",
   "execution_count": 7,
   "id": "001eeb72",
   "metadata": {},
   "outputs": [
    {
     "data": {
      "text/html": [
       "<div>\n",
       "<style scoped>\n",
       "    .dataframe tbody tr th:only-of-type {\n",
       "        vertical-align: middle;\n",
       "    }\n",
       "\n",
       "    .dataframe tbody tr th {\n",
       "        vertical-align: top;\n",
       "    }\n",
       "\n",
       "    .dataframe thead th {\n",
       "        text-align: right;\n",
       "    }\n",
       "</style>\n",
       "<table border=\"1\" class=\"dataframe\">\n",
       "  <thead>\n",
       "    <tr style=\"text-align: right;\">\n",
       "      <th></th>\n",
       "      <th>Cement</th>\n",
       "      <th>Blast Furnace Slag</th>\n",
       "      <th>Fly Ash</th>\n",
       "      <th>Water</th>\n",
       "      <th>Superplasticizer</th>\n",
       "      <th>Coarse Aggregate</th>\n",
       "      <th>Fine Aggregate</th>\n",
       "      <th>Age</th>\n",
       "      <th>Strength</th>\n",
       "    </tr>\n",
       "  </thead>\n",
       "  <tbody>\n",
       "    <tr>\n",
       "      <th>count</th>\n",
       "      <td>1030.000000</td>\n",
       "      <td>1030.000000</td>\n",
       "      <td>1030.000000</td>\n",
       "      <td>1030.000000</td>\n",
       "      <td>1030.000000</td>\n",
       "      <td>1030.000000</td>\n",
       "      <td>1030.000000</td>\n",
       "      <td>1030.000000</td>\n",
       "      <td>1030.000000</td>\n",
       "    </tr>\n",
       "    <tr>\n",
       "      <th>mean</th>\n",
       "      <td>281.167864</td>\n",
       "      <td>73.895825</td>\n",
       "      <td>54.188350</td>\n",
       "      <td>181.567282</td>\n",
       "      <td>6.204660</td>\n",
       "      <td>972.918932</td>\n",
       "      <td>773.580485</td>\n",
       "      <td>45.662136</td>\n",
       "      <td>35.817961</td>\n",
       "    </tr>\n",
       "    <tr>\n",
       "      <th>std</th>\n",
       "      <td>104.506364</td>\n",
       "      <td>86.279342</td>\n",
       "      <td>63.997004</td>\n",
       "      <td>21.354219</td>\n",
       "      <td>5.973841</td>\n",
       "      <td>77.753954</td>\n",
       "      <td>80.175980</td>\n",
       "      <td>63.169912</td>\n",
       "      <td>16.705742</td>\n",
       "    </tr>\n",
       "    <tr>\n",
       "      <th>min</th>\n",
       "      <td>102.000000</td>\n",
       "      <td>0.000000</td>\n",
       "      <td>0.000000</td>\n",
       "      <td>121.800000</td>\n",
       "      <td>0.000000</td>\n",
       "      <td>801.000000</td>\n",
       "      <td>594.000000</td>\n",
       "      <td>1.000000</td>\n",
       "      <td>2.330000</td>\n",
       "    </tr>\n",
       "    <tr>\n",
       "      <th>25%</th>\n",
       "      <td>192.375000</td>\n",
       "      <td>0.000000</td>\n",
       "      <td>0.000000</td>\n",
       "      <td>164.900000</td>\n",
       "      <td>0.000000</td>\n",
       "      <td>932.000000</td>\n",
       "      <td>730.950000</td>\n",
       "      <td>7.000000</td>\n",
       "      <td>23.710000</td>\n",
       "    </tr>\n",
       "    <tr>\n",
       "      <th>50%</th>\n",
       "      <td>272.900000</td>\n",
       "      <td>22.000000</td>\n",
       "      <td>0.000000</td>\n",
       "      <td>185.000000</td>\n",
       "      <td>6.400000</td>\n",
       "      <td>968.000000</td>\n",
       "      <td>779.500000</td>\n",
       "      <td>28.000000</td>\n",
       "      <td>34.445000</td>\n",
       "    </tr>\n",
       "    <tr>\n",
       "      <th>75%</th>\n",
       "      <td>350.000000</td>\n",
       "      <td>142.950000</td>\n",
       "      <td>118.300000</td>\n",
       "      <td>192.000000</td>\n",
       "      <td>10.200000</td>\n",
       "      <td>1029.400000</td>\n",
       "      <td>824.000000</td>\n",
       "      <td>56.000000</td>\n",
       "      <td>46.135000</td>\n",
       "    </tr>\n",
       "    <tr>\n",
       "      <th>max</th>\n",
       "      <td>540.000000</td>\n",
       "      <td>359.400000</td>\n",
       "      <td>200.100000</td>\n",
       "      <td>247.000000</td>\n",
       "      <td>32.200000</td>\n",
       "      <td>1145.000000</td>\n",
       "      <td>992.600000</td>\n",
       "      <td>365.000000</td>\n",
       "      <td>82.600000</td>\n",
       "    </tr>\n",
       "  </tbody>\n",
       "</table>\n",
       "</div>"
      ],
      "text/plain": [
       "            Cement  Blast Furnace Slag      Fly Ash        Water  \\\n",
       "count  1030.000000         1030.000000  1030.000000  1030.000000   \n",
       "mean    281.167864           73.895825    54.188350   181.567282   \n",
       "std     104.506364           86.279342    63.997004    21.354219   \n",
       "min     102.000000            0.000000     0.000000   121.800000   \n",
       "25%     192.375000            0.000000     0.000000   164.900000   \n",
       "50%     272.900000           22.000000     0.000000   185.000000   \n",
       "75%     350.000000          142.950000   118.300000   192.000000   \n",
       "max     540.000000          359.400000   200.100000   247.000000   \n",
       "\n",
       "       Superplasticizer  Coarse Aggregate  Fine Aggregate          Age  \\\n",
       "count       1030.000000       1030.000000     1030.000000  1030.000000   \n",
       "mean           6.204660        972.918932      773.580485    45.662136   \n",
       "std            5.973841         77.753954       80.175980    63.169912   \n",
       "min            0.000000        801.000000      594.000000     1.000000   \n",
       "25%            0.000000        932.000000      730.950000     7.000000   \n",
       "50%            6.400000        968.000000      779.500000    28.000000   \n",
       "75%           10.200000       1029.400000      824.000000    56.000000   \n",
       "max           32.200000       1145.000000      992.600000   365.000000   \n",
       "\n",
       "          Strength  \n",
       "count  1030.000000  \n",
       "mean     35.817961  \n",
       "std      16.705742  \n",
       "min       2.330000  \n",
       "25%      23.710000  \n",
       "50%      34.445000  \n",
       "75%      46.135000  \n",
       "max      82.600000  "
      ]
     },
     "execution_count": 7,
     "metadata": {},
     "output_type": "execute_result"
    }
   ],
   "source": [
    "df.describe()"
   ]
  },
  {
   "cell_type": "code",
   "execution_count": 8,
   "id": "d253664b",
   "metadata": {},
   "outputs": [
    {
     "data": {
      "text/plain": [
       "Cement                0\n",
       "Blast Furnace Slag    0\n",
       "Fly Ash               0\n",
       "Water                 0\n",
       "Superplasticizer      0\n",
       "Coarse Aggregate      0\n",
       "Fine Aggregate        0\n",
       "Age                   0\n",
       "Strength              0\n",
       "dtype: int64"
      ]
     },
     "execution_count": 8,
     "metadata": {},
     "output_type": "execute_result"
    }
   ],
   "source": [
    "df.isnull().sum()"
   ]
  },
  {
   "cell_type": "markdown",
   "id": "2906787b",
   "metadata": {},
   "source": [
    "The data is ready to be used to build our model."
   ]
  },
  {
   "cell_type": "markdown",
   "id": "1508ce48",
   "metadata": {},
   "source": [
    "### Split data into predictors and target"
   ]
  },
  {
   "cell_type": "markdown",
   "id": "9a82ad59",
   "metadata": {},
   "source": [
    "The target variable in this problem is the concrete sample strength. Therefore, our predictors will be all the other columns."
   ]
  },
  {
   "cell_type": "code",
   "execution_count": 9,
   "id": "88519411",
   "metadata": {},
   "outputs": [],
   "source": [
    "concrete_data_columns = df.columns\n",
    "predictors = df[concrete_data_columns[concrete_data_columns != 'Strength']] # all columns except Strength\n",
    "target = df['Strength']"
   ]
  },
  {
   "cell_type": "markdown",
   "id": "15188acd",
   "metadata": {},
   "source": [
    "Let's do a check of the predictors and the target dataframes."
   ]
  },
  {
   "cell_type": "code",
   "execution_count": 10,
   "id": "7855414e",
   "metadata": {},
   "outputs": [
    {
     "data": {
      "text/html": [
       "<div>\n",
       "<style scoped>\n",
       "    .dataframe tbody tr th:only-of-type {\n",
       "        vertical-align: middle;\n",
       "    }\n",
       "\n",
       "    .dataframe tbody tr th {\n",
       "        vertical-align: top;\n",
       "    }\n",
       "\n",
       "    .dataframe thead th {\n",
       "        text-align: right;\n",
       "    }\n",
       "</style>\n",
       "<table border=\"1\" class=\"dataframe\">\n",
       "  <thead>\n",
       "    <tr style=\"text-align: right;\">\n",
       "      <th></th>\n",
       "      <th>Cement</th>\n",
       "      <th>Blast Furnace Slag</th>\n",
       "      <th>Fly Ash</th>\n",
       "      <th>Water</th>\n",
       "      <th>Superplasticizer</th>\n",
       "      <th>Coarse Aggregate</th>\n",
       "      <th>Fine Aggregate</th>\n",
       "      <th>Age</th>\n",
       "    </tr>\n",
       "  </thead>\n",
       "  <tbody>\n",
       "    <tr>\n",
       "      <th>0</th>\n",
       "      <td>540.0</td>\n",
       "      <td>0.0</td>\n",
       "      <td>0.0</td>\n",
       "      <td>162.0</td>\n",
       "      <td>2.5</td>\n",
       "      <td>1040.0</td>\n",
       "      <td>676.0</td>\n",
       "      <td>28</td>\n",
       "    </tr>\n",
       "    <tr>\n",
       "      <th>1</th>\n",
       "      <td>540.0</td>\n",
       "      <td>0.0</td>\n",
       "      <td>0.0</td>\n",
       "      <td>162.0</td>\n",
       "      <td>2.5</td>\n",
       "      <td>1055.0</td>\n",
       "      <td>676.0</td>\n",
       "      <td>28</td>\n",
       "    </tr>\n",
       "    <tr>\n",
       "      <th>2</th>\n",
       "      <td>332.5</td>\n",
       "      <td>142.5</td>\n",
       "      <td>0.0</td>\n",
       "      <td>228.0</td>\n",
       "      <td>0.0</td>\n",
       "      <td>932.0</td>\n",
       "      <td>594.0</td>\n",
       "      <td>270</td>\n",
       "    </tr>\n",
       "    <tr>\n",
       "      <th>3</th>\n",
       "      <td>332.5</td>\n",
       "      <td>142.5</td>\n",
       "      <td>0.0</td>\n",
       "      <td>228.0</td>\n",
       "      <td>0.0</td>\n",
       "      <td>932.0</td>\n",
       "      <td>594.0</td>\n",
       "      <td>365</td>\n",
       "    </tr>\n",
       "    <tr>\n",
       "      <th>4</th>\n",
       "      <td>198.6</td>\n",
       "      <td>132.4</td>\n",
       "      <td>0.0</td>\n",
       "      <td>192.0</td>\n",
       "      <td>0.0</td>\n",
       "      <td>978.4</td>\n",
       "      <td>825.5</td>\n",
       "      <td>360</td>\n",
       "    </tr>\n",
       "  </tbody>\n",
       "</table>\n",
       "</div>"
      ],
      "text/plain": [
       "   Cement  Blast Furnace Slag  Fly Ash  Water  Superplasticizer  \\\n",
       "0   540.0                 0.0      0.0  162.0               2.5   \n",
       "1   540.0                 0.0      0.0  162.0               2.5   \n",
       "2   332.5               142.5      0.0  228.0               0.0   \n",
       "3   332.5               142.5      0.0  228.0               0.0   \n",
       "4   198.6               132.4      0.0  192.0               0.0   \n",
       "\n",
       "   Coarse Aggregate  Fine Aggregate  Age  \n",
       "0            1040.0           676.0   28  \n",
       "1            1055.0           676.0   28  \n",
       "2             932.0           594.0  270  \n",
       "3             932.0           594.0  365  \n",
       "4             978.4           825.5  360  "
      ]
     },
     "execution_count": 10,
     "metadata": {},
     "output_type": "execute_result"
    }
   ],
   "source": [
    "predictors.head()"
   ]
  },
  {
   "cell_type": "code",
   "execution_count": 11,
   "id": "e3abd2a0",
   "metadata": {},
   "outputs": [
    {
     "data": {
      "text/plain": [
       "0    79.99\n",
       "1    61.89\n",
       "2    40.27\n",
       "3    41.05\n",
       "4    44.30\n",
       "Name: Strength, dtype: float64"
      ]
     },
     "execution_count": 11,
     "metadata": {},
     "output_type": "execute_result"
    }
   ],
   "source": [
    "target.head()"
   ]
  },
  {
   "cell_type": "markdown",
   "id": "3bea84a6",
   "metadata": {},
   "source": [
    "Recall that one way to normalize the data is by subtracting the mean from the individual predictors and dividing by the standard deviation"
   ]
  },
  {
   "cell_type": "code",
   "execution_count": 25,
   "id": "f31aa91a",
   "metadata": {},
   "outputs": [
    {
     "data": {
      "text/html": [
       "<div>\n",
       "<style scoped>\n",
       "    .dataframe tbody tr th:only-of-type {\n",
       "        vertical-align: middle;\n",
       "    }\n",
       "\n",
       "    .dataframe tbody tr th {\n",
       "        vertical-align: top;\n",
       "    }\n",
       "\n",
       "    .dataframe thead th {\n",
       "        text-align: right;\n",
       "    }\n",
       "</style>\n",
       "<table border=\"1\" class=\"dataframe\">\n",
       "  <thead>\n",
       "    <tr style=\"text-align: right;\">\n",
       "      <th></th>\n",
       "      <th>Cement</th>\n",
       "      <th>Blast Furnace Slag</th>\n",
       "      <th>Fly Ash</th>\n",
       "      <th>Water</th>\n",
       "      <th>Superplasticizer</th>\n",
       "      <th>Coarse Aggregate</th>\n",
       "      <th>Fine Aggregate</th>\n",
       "      <th>Age</th>\n",
       "    </tr>\n",
       "  </thead>\n",
       "  <tbody>\n",
       "    <tr>\n",
       "      <th>0</th>\n",
       "      <td>2.476712</td>\n",
       "      <td>-0.856472</td>\n",
       "      <td>-0.846733</td>\n",
       "      <td>-0.916319</td>\n",
       "      <td>-0.620147</td>\n",
       "      <td>0.862735</td>\n",
       "      <td>-1.217079</td>\n",
       "      <td>-0.279597</td>\n",
       "    </tr>\n",
       "    <tr>\n",
       "      <th>1</th>\n",
       "      <td>2.476712</td>\n",
       "      <td>-0.856472</td>\n",
       "      <td>-0.846733</td>\n",
       "      <td>-0.916319</td>\n",
       "      <td>-0.620147</td>\n",
       "      <td>1.055651</td>\n",
       "      <td>-1.217079</td>\n",
       "      <td>-0.279597</td>\n",
       "    </tr>\n",
       "    <tr>\n",
       "      <th>2</th>\n",
       "      <td>0.491187</td>\n",
       "      <td>0.795140</td>\n",
       "      <td>-0.846733</td>\n",
       "      <td>2.174405</td>\n",
       "      <td>-1.038638</td>\n",
       "      <td>-0.526262</td>\n",
       "      <td>-2.239829</td>\n",
       "      <td>3.551340</td>\n",
       "    </tr>\n",
       "    <tr>\n",
       "      <th>3</th>\n",
       "      <td>0.491187</td>\n",
       "      <td>0.795140</td>\n",
       "      <td>-0.846733</td>\n",
       "      <td>2.174405</td>\n",
       "      <td>-1.038638</td>\n",
       "      <td>-0.526262</td>\n",
       "      <td>-2.239829</td>\n",
       "      <td>5.055221</td>\n",
       "    </tr>\n",
       "    <tr>\n",
       "      <th>4</th>\n",
       "      <td>-0.790075</td>\n",
       "      <td>0.678079</td>\n",
       "      <td>-0.846733</td>\n",
       "      <td>0.488555</td>\n",
       "      <td>-1.038638</td>\n",
       "      <td>0.070492</td>\n",
       "      <td>0.647569</td>\n",
       "      <td>4.976069</td>\n",
       "    </tr>\n",
       "  </tbody>\n",
       "</table>\n",
       "</div>"
      ],
      "text/plain": [
       "     Cement  Blast Furnace Slag   Fly Ash     Water  Superplasticizer  \\\n",
       "0  2.476712           -0.856472 -0.846733 -0.916319         -0.620147   \n",
       "1  2.476712           -0.856472 -0.846733 -0.916319         -0.620147   \n",
       "2  0.491187            0.795140 -0.846733  2.174405         -1.038638   \n",
       "3  0.491187            0.795140 -0.846733  2.174405         -1.038638   \n",
       "4 -0.790075            0.678079 -0.846733  0.488555         -1.038638   \n",
       "\n",
       "   Coarse Aggregate  Fine Aggregate       Age  \n",
       "0          0.862735       -1.217079 -0.279597  \n",
       "1          1.055651       -1.217079 -0.279597  \n",
       "2         -0.526262       -2.239829  3.551340  \n",
       "3         -0.526262       -2.239829  5.055221  \n",
       "4          0.070492        0.647569  4.976069  "
      ]
     },
     "execution_count": 25,
     "metadata": {},
     "output_type": "execute_result"
    }
   ],
   "source": [
    "predictors_norm = (predictors - predictors.mean()) / predictors.std()\n",
    "predictors_norm.head()"
   ]
  },
  {
   "cell_type": "code",
   "execution_count": 27,
   "id": "a5c82db5",
   "metadata": {},
   "outputs": [
    {
     "data": {
      "text/plain": [
       "8"
      ]
     },
     "execution_count": 27,
     "metadata": {},
     "output_type": "execute_result"
    }
   ],
   "source": [
    "n_cols=predictors_norm.shape[1]\n",
    "n_cols"
   ]
  },
  {
   "cell_type": "markdown",
   "id": "cec153dd",
   "metadata": {},
   "source": [
    "### Import Keras"
   ]
  },
  {
   "cell_type": "code",
   "execution_count": 28,
   "id": "f42164bf",
   "metadata": {},
   "outputs": [],
   "source": [
    "import keras"
   ]
  },
  {
   "cell_type": "code",
   "execution_count": 29,
   "id": "0b256cb1",
   "metadata": {},
   "outputs": [],
   "source": [
    "from keras.models import Sequential\n",
    "from keras.layers import Dense"
   ]
  },
  {
   "cell_type": "code",
   "execution_count": 30,
   "id": "3f28bb76",
   "metadata": {},
   "outputs": [],
   "source": [
    "def regression_model():\n",
    "    # create model\n",
    "    model = Sequential()\n",
    "    model.add(Dense(10, activation='relu', input_shape=(n_cols,)))\n",
    "    model.add(Dense(1))\n",
    "    \n",
    "    # compile model\n",
    "    model.compile(optimizer='adam', loss='mean_squared_error')\n",
    "    return model"
   ]
  },
  {
   "cell_type": "markdown",
   "id": "d90f710d",
   "metadata": {},
   "source": [
    "The regression_model function creates a model that has one hidden layer with 10 neurons and a ReLU activation function. It uses the adam optimizer and the mean squared error as the loss function."
   ]
  },
  {
   "cell_type": "code",
   "execution_count": 31,
   "id": "cfab360f",
   "metadata": {},
   "outputs": [],
   "source": [
    "from sklearn.model_selection import train_test_split"
   ]
  },
  {
   "cell_type": "markdown",
   "id": "053f6d1c",
   "metadata": {},
   "source": [
    "Randomly splitting the data into a training and test sets by holding 30% of the data for testing"
   ]
  },
  {
   "cell_type": "code",
   "execution_count": 32,
   "id": "184cc8f4",
   "metadata": {},
   "outputs": [],
   "source": [
    "X_train, X_test, y_train, y_test = train_test_split(predictors_norm, target, test_size=0.3, random_state=42)"
   ]
  },
  {
   "cell_type": "markdown",
   "id": "71fe0236",
   "metadata": {},
   "source": [
    "### Train the Model"
   ]
  },
  {
   "cell_type": "markdown",
   "id": "aa5326c4",
   "metadata": {},
   "source": [
    "Let's create our model."
   ]
  },
  {
   "cell_type": "code",
   "execution_count": 33,
   "id": "8951ce35",
   "metadata": {},
   "outputs": [],
   "source": [
    "# build the model\n",
    "model = regression_model()"
   ]
  },
  {
   "cell_type": "markdown",
   "id": "924f52fb",
   "metadata": {},
   "source": [
    "Train the model on the training data using 50 epochs."
   ]
  },
  {
   "cell_type": "code",
   "execution_count": 34,
   "id": "211587d9",
   "metadata": {},
   "outputs": [
    {
     "name": "stdout",
     "output_type": "stream",
     "text": [
      "Epoch 1/50\n",
      "23/23 [==============================] - 0s 945us/step - loss: 1595.8495\n",
      "Epoch 2/50\n",
      "23/23 [==============================] - 0s 903us/step - loss: 1579.3392\n",
      "Epoch 3/50\n",
      "23/23 [==============================] - 0s 845us/step - loss: 1562.6980\n",
      "Epoch 4/50\n",
      "23/23 [==============================] - 0s 894us/step - loss: 1546.0272\n",
      "Epoch 5/50\n",
      "23/23 [==============================] - 0s 856us/step - loss: 1528.7233\n",
      "Epoch 6/50\n",
      "23/23 [==============================] - 0s 875us/step - loss: 1511.1748\n",
      "Epoch 7/50\n",
      "23/23 [==============================] - 0s 843us/step - loss: 1493.1589\n",
      "Epoch 8/50\n",
      "23/23 [==============================] - 0s 780us/step - loss: 1474.1439\n",
      "Epoch 9/50\n",
      "23/23 [==============================] - 0s 848us/step - loss: 1454.8350\n",
      "Epoch 10/50\n",
      "23/23 [==============================] - 0s 886us/step - loss: 1434.2163\n",
      "Epoch 11/50\n",
      "23/23 [==============================] - 0s 810us/step - loss: 1413.0692\n",
      "Epoch 12/50\n",
      "23/23 [==============================] - 0s 875us/step - loss: 1391.4517\n",
      "Epoch 13/50\n",
      "23/23 [==============================] - 0s 894us/step - loss: 1368.4211\n",
      "Epoch 14/50\n",
      "23/23 [==============================] - 0s 989us/step - loss: 1344.7582\n",
      "Epoch 15/50\n",
      "23/23 [==============================] - 0s 861us/step - loss: 1320.3090\n",
      "Epoch 16/50\n",
      "23/23 [==============================] - 0s 958us/step - loss: 1294.8070\n",
      "Epoch 17/50\n",
      "23/23 [==============================] - 0s 850us/step - loss: 1268.9259\n",
      "Epoch 18/50\n",
      "23/23 [==============================] - 0s 841us/step - loss: 1242.1306\n",
      "Epoch 19/50\n",
      "23/23 [==============================] - 0s 808us/step - loss: 1214.5334\n",
      "Epoch 20/50\n",
      "23/23 [==============================] - 0s 878us/step - loss: 1186.4750\n",
      "Epoch 21/50\n",
      "23/23 [==============================] - 0s 849us/step - loss: 1157.0239\n",
      "Epoch 22/50\n",
      "23/23 [==============================] - 0s 807us/step - loss: 1127.6349\n",
      "Epoch 23/50\n",
      "23/23 [==============================] - 0s 871us/step - loss: 1097.2885\n",
      "Epoch 24/50\n",
      "23/23 [==============================] - 0s 849us/step - loss: 1066.0865\n",
      "Epoch 25/50\n",
      "23/23 [==============================] - 0s 848us/step - loss: 1034.5922\n",
      "Epoch 26/50\n",
      "23/23 [==============================] - 0s 808us/step - loss: 1002.7281\n",
      "Epoch 27/50\n",
      "23/23 [==============================] - 0s 895us/step - loss: 970.8183\n",
      "Epoch 28/50\n",
      "23/23 [==============================] - 0s 892us/step - loss: 938.8475\n",
      "Epoch 29/50\n",
      "23/23 [==============================] - 0s 824us/step - loss: 906.7029\n",
      "Epoch 30/50\n",
      "23/23 [==============================] - 0s 937us/step - loss: 874.6951\n",
      "Epoch 31/50\n",
      "23/23 [==============================] - 0s 985us/step - loss: 843.1550\n",
      "Epoch 32/50\n",
      "23/23 [==============================] - 0s 1ms/step - loss: 812.0154\n",
      "Epoch 33/50\n",
      "23/23 [==============================] - 0s 909us/step - loss: 781.2424\n",
      "Epoch 34/50\n",
      "23/23 [==============================] - 0s 895us/step - loss: 751.1696\n",
      "Epoch 35/50\n",
      "23/23 [==============================] - 0s 894us/step - loss: 721.9556\n",
      "Epoch 36/50\n",
      "23/23 [==============================] - 0s 1ms/step - loss: 693.4271\n",
      "Epoch 37/50\n",
      "23/23 [==============================] - 0s 1ms/step - loss: 665.8740\n",
      "Epoch 38/50\n",
      "23/23 [==============================] - 0s 969us/step - loss: 639.4578\n",
      "Epoch 39/50\n",
      "23/23 [==============================] - 0s 987us/step - loss: 613.8646\n",
      "Epoch 40/50\n",
      "23/23 [==============================] - 0s 942us/step - loss: 589.1137\n",
      "Epoch 41/50\n",
      "23/23 [==============================] - 0s 1ms/step - loss: 565.9014\n",
      "Epoch 42/50\n",
      "23/23 [==============================] - 0s 1ms/step - loss: 543.2733\n",
      "Epoch 43/50\n",
      "23/23 [==============================] - 0s 1ms/step - loss: 521.9279\n",
      "Epoch 44/50\n",
      "23/23 [==============================] - 0s 869us/step - loss: 501.4359\n",
      "Epoch 45/50\n",
      "23/23 [==============================] - 0s 1ms/step - loss: 482.2614\n",
      "Epoch 46/50\n",
      "23/23 [==============================] - 0s 914us/step - loss: 463.8366\n",
      "Epoch 47/50\n",
      "23/23 [==============================] - 0s 938us/step - loss: 446.7496\n",
      "Epoch 48/50\n",
      "23/23 [==============================] - 0s 869us/step - loss: 430.2516\n",
      "Epoch 49/50\n",
      "23/23 [==============================] - 0s 1ms/step - loss: 414.7116\n",
      "Epoch 50/50\n",
      "23/23 [==============================] - 0s 845us/step - loss: 400.4102\n"
     ]
    },
    {
     "data": {
      "text/plain": [
       "<keras.callbacks.History at 0x24f983cde50>"
      ]
     },
     "execution_count": 34,
     "metadata": {},
     "output_type": "execute_result"
    }
   ],
   "source": [
    "epochs = 50\n",
    "model.fit(X_train, y_train, epochs=epochs, verbose=1)"
   ]
  },
  {
   "cell_type": "markdown",
   "id": "164c44b6",
   "metadata": {},
   "source": [
    "Evaluate the model on the test data "
   ]
  },
  {
   "cell_type": "code",
   "execution_count": 35,
   "id": "4c564374",
   "metadata": {},
   "outputs": [
    {
     "name": "stdout",
     "output_type": "stream",
     "text": [
      "10/10 [==============================] - 0s 915us/step - loss: 403.8485\n",
      "10/10 [==============================] - 0s 892us/step\n"
     ]
    },
    {
     "data": {
      "text/plain": [
       "403.8485107421875"
      ]
     },
     "execution_count": 35,
     "metadata": {},
     "output_type": "execute_result"
    }
   ],
   "source": [
    "loss_val = model.evaluate(X_test, y_test)\n",
    "y_pred = model.predict(X_test)\n",
    "loss_val"
   ]
  },
  {
   "cell_type": "code",
   "execution_count": 36,
   "id": "d509092d",
   "metadata": {},
   "outputs": [],
   "source": [
    "from sklearn.metrics import mean_squared_error"
   ]
  },
  {
   "cell_type": "markdown",
   "id": "42111cd8",
   "metadata": {},
   "source": [
    "Compute the mean_squared_error between the predict concrete strength and the actual concrete strength"
   ]
  },
  {
   "cell_type": "code",
   "execution_count": 37,
   "id": "d3d248a0",
   "metadata": {},
   "outputs": [
    {
     "name": "stdout",
     "output_type": "stream",
     "text": [
      "403.84854314123425 0.0\n"
     ]
    }
   ],
   "source": [
    "mean_square_error = mean_squared_error(y_test, y_pred)\n",
    "mean = np.mean(mean_square_error)\n",
    "standard_deviation = np.std(mean_square_error)\n",
    "print(mean, standard_deviation)"
   ]
  },
  {
   "cell_type": "markdown",
   "id": "4fb95017",
   "metadata": {},
   "source": [
    "Create a list of 50 mean squared errors  and report mean and the standard deviation of the mean squared errors"
   ]
  },
  {
   "cell_type": "code",
   "execution_count": 38,
   "id": "2be770d4",
   "metadata": {},
   "outputs": [
    {
     "name": "stdout",
     "output_type": "stream",
     "text": [
      "MSE 1: 152.1336669921875\n",
      "10/10 [==============================] - 0s 919us/step\n",
      "MSE 2: 152.1161346435547\n",
      "10/10 [==============================] - 0s 842us/step\n",
      "MSE 3: 91.62457275390625\n",
      "10/10 [==============================] - 0s 905us/step\n",
      "MSE 4: 74.1259765625\n",
      "10/10 [==============================] - 0s 752us/step\n",
      "MSE 5: 57.72782516479492\n",
      "10/10 [==============================] - 0s 889us/step\n",
      "MSE 6: 56.269657135009766\n",
      "10/10 [==============================] - 0s 855us/step\n",
      "MSE 7: 52.201316833496094\n",
      "10/10 [==============================] - 0s 992us/step\n",
      "MSE 8: 39.488975524902344\n",
      "10/10 [==============================] - 0s 790us/step\n",
      "MSE 9: 42.229557037353516\n",
      "10/10 [==============================] - 0s 940us/step\n",
      "MSE 10: 44.02722930908203\n",
      "10/10 [==============================] - 0s 1ms/step\n",
      "MSE 11: 38.85687255859375\n",
      "10/10 [==============================] - 0s 959us/step\n",
      "MSE 12: 37.88656997680664\n",
      "10/10 [==============================] - 0s 951us/step\n",
      "MSE 13: 44.983978271484375\n",
      "10/10 [==============================] - 0s 939us/step\n",
      "MSE 14: 43.00558853149414\n",
      "10/10 [==============================] - 0s 843us/step\n",
      "MSE 15: 39.62437057495117\n",
      "10/10 [==============================] - 0s 1ms/step\n",
      "MSE 16: 35.399009704589844\n",
      "10/10 [==============================] - 0s 911us/step\n",
      "MSE 17: 38.094329833984375\n",
      "10/10 [==============================] - 0s 779us/step\n",
      "MSE 18: 35.95624923706055\n",
      "10/10 [==============================] - 0s 890us/step\n",
      "MSE 19: 35.77860641479492\n",
      "10/10 [==============================] - 0s 957us/step\n",
      "MSE 20: 35.030555725097656\n",
      "10/10 [==============================] - 0s 1ms/step\n",
      "MSE 21: 33.90412139892578\n",
      "10/10 [==============================] - 0s 805us/step\n",
      "MSE 22: 32.13026428222656\n",
      "10/10 [==============================] - 0s 2ms/step\n",
      "MSE 23: 32.66349792480469\n",
      "10/10 [==============================] - 0s 668us/step\n",
      "MSE 24: 36.26028060913086\n",
      "10/10 [==============================] - 0s 959us/step\n",
      "MSE 25: 34.59671401977539\n",
      "10/10 [==============================] - 0s 973us/step\n",
      "MSE 26: 37.02382278442383\n",
      "10/10 [==============================] - 0s 956us/step\n",
      "MSE 27: 33.36676025390625\n",
      "10/10 [==============================] - 0s 846us/step\n",
      "MSE 28: 30.232345581054688\n",
      "10/10 [==============================] - 0s 842us/step\n",
      "MSE 29: 35.198028564453125\n",
      "10/10 [==============================] - 0s 778us/step\n",
      "MSE 30: 34.619911193847656\n",
      "10/10 [==============================] - 0s 1ms/step\n",
      "MSE 31: 33.97964096069336\n",
      "10/10 [==============================] - 0s 953us/step\n",
      "MSE 32: 30.225296020507812\n",
      "10/10 [==============================] - 0s 889us/step\n",
      "MSE 33: 32.730709075927734\n",
      "10/10 [==============================] - 0s 889us/step\n",
      "MSE 34: 33.82404327392578\n",
      "10/10 [==============================] - 0s 905us/step\n",
      "MSE 35: 34.36322784423828\n",
      "10/10 [==============================] - 0s 895us/step\n",
      "MSE 36: 38.07405090332031\n",
      "10/10 [==============================] - 0s 1ms/step\n",
      "MSE 37: 32.073822021484375\n",
      "10/10 [==============================] - 0s 889us/step\n",
      "MSE 38: 35.447330474853516\n",
      "10/10 [==============================] - 0s 917us/step\n",
      "MSE 39: 32.99907684326172\n",
      "10/10 [==============================] - 0s 890us/step\n",
      "MSE 40: 28.975889205932617\n",
      "10/10 [==============================] - 0s 946us/step\n",
      "MSE 41: 34.78974533081055\n",
      "10/10 [==============================] - 0s 836us/step\n",
      "MSE 42: 32.19306182861328\n",
      "10/10 [==============================] - 0s 1ms/step\n",
      "MSE 43: 32.0108642578125\n",
      "10/10 [==============================] - 0s 949us/step\n",
      "MSE 44: 37.962493896484375\n",
      "10/10 [==============================] - 0s 964us/step\n",
      "MSE 45: 37.50679397583008\n",
      "10/10 [==============================] - 0s 973us/step\n",
      "MSE 46: 33.78178405761719\n",
      "10/10 [==============================] - 0s 940us/step\n",
      "MSE 47: 33.55097579956055\n",
      "10/10 [==============================] - 0s 1ms/step\n",
      "MSE 48: 32.755802154541016\n",
      "10/10 [==============================] - 0s 679us/step\n",
      "MSE 49: 35.09395980834961\n",
      "10/10 [==============================] - 0s 889us/step\n",
      "MSE 50: 35.18300247192383\n",
      "10/10 [==============================] - 0s 961us/step\n",
      "\n",
      "\n",
      "Below is the mean and standard deviation of 50 mean squared errors without normalized data. Total number of epochs for each training is: 50\n",
      "\n",
      "Mean: 43.28156696128391\n",
      "Standard Deviation: 24.722056441617276\n"
     ]
    }
   ],
   "source": [
    "total_mean_squared_errors = 50\n",
    "epochs = 50\n",
    "mean_squared_errors = []\n",
    "for i in range(0, total_mean_squared_errors):\n",
    "    X_train, X_test, y_train, y_test = train_test_split(predictors_norm, target, test_size=0.3, random_state=i)\n",
    "    model.fit(X_train, y_train, epochs=epochs, verbose=0)\n",
    "    MSE = model.evaluate(X_test, y_test, verbose=0)\n",
    "    print(\"MSE \"+str(i+1)+\": \"+str(MSE))\n",
    "    y_pred = model.predict(X_test)\n",
    "    mean_square_error = mean_squared_error(y_test, y_pred)\n",
    "    mean_squared_errors.append(mean_square_error)\n",
    "\n",
    "mean_squared_errors = np.array(mean_squared_errors)\n",
    "mean = np.mean(mean_squared_errors)\n",
    "standard_deviation = np.std(mean_squared_errors)\n",
    "\n",
    "print('\\n')\n",
    "print(\"Below is the mean and standard deviation of \" +str(total_mean_squared_errors) + \" mean squared errors without normalized data. Total number of epochs for each training is: \" +str(epochs) + \"\\n\")\n",
    "print(\"Mean: \"+str(mean))\n",
    "print(\"Standard Deviation: \"+str(standard_deviation))"
   ]
  }
 ],
 "metadata": {
  "kernelspec": {
   "display_name": "Python 3 (ipykernel)",
   "language": "python",
   "name": "python3"
  },
  "language_info": {
   "codemirror_mode": {
    "name": "ipython",
    "version": 3
   },
   "file_extension": ".py",
   "mimetype": "text/x-python",
   "name": "python",
   "nbconvert_exporter": "python",
   "pygments_lexer": "ipython3",
   "version": "3.9.13"
  }
 },
 "nbformat": 4,
 "nbformat_minor": 5
}
