{
 "cells": [
  {
   "cell_type": "markdown",
   "id": "5340fc78",
   "metadata": {},
   "source": [
    "## Build a Regression Model in Keras (C)"
   ]
  },
  {
   "cell_type": "code",
   "execution_count": 92,
   "id": "7d7c823c",
   "metadata": {},
   "outputs": [],
   "source": [
    "import pandas as pd\n",
    "import numpy as np"
   ]
  },
  {
   "cell_type": "markdown",
   "id": "5d6c3cf2",
   "metadata": {},
   "source": [
    "The dataset is about the compressive strength of different samples of concrete based on the volumes of the different ingredients that were used to make them. Ingredients include:\n",
    "\n",
    "1. Cement\n",
    "\n",
    "2. Blast Furnace Slag\n",
    "\n",
    "3. Fly Ash\n",
    "\n",
    "4. Water\n",
    "\n",
    "5. Superplasticizer\n",
    "\n",
    "6. Coarse Aggregate\n",
    "\n",
    "7. Fine Aggregate\n",
    "\n",
    "Let's read the dataset into a pandas dataframe."
   ]
  },
  {
   "cell_type": "code",
   "execution_count": 93,
   "id": "9db8f7ae",
   "metadata": {},
   "outputs": [
    {
     "data": {
      "text/html": [
       "<div>\n",
       "<style scoped>\n",
       "    .dataframe tbody tr th:only-of-type {\n",
       "        vertical-align: middle;\n",
       "    }\n",
       "\n",
       "    .dataframe tbody tr th {\n",
       "        vertical-align: top;\n",
       "    }\n",
       "\n",
       "    .dataframe thead th {\n",
       "        text-align: right;\n",
       "    }\n",
       "</style>\n",
       "<table border=\"1\" class=\"dataframe\">\n",
       "  <thead>\n",
       "    <tr style=\"text-align: right;\">\n",
       "      <th></th>\n",
       "      <th>Cement</th>\n",
       "      <th>Blast Furnace Slag</th>\n",
       "      <th>Fly Ash</th>\n",
       "      <th>Water</th>\n",
       "      <th>Superplasticizer</th>\n",
       "      <th>Coarse Aggregate</th>\n",
       "      <th>Fine Aggregate</th>\n",
       "      <th>Age</th>\n",
       "      <th>Strength</th>\n",
       "    </tr>\n",
       "  </thead>\n",
       "  <tbody>\n",
       "    <tr>\n",
       "      <th>0</th>\n",
       "      <td>540.0</td>\n",
       "      <td>0.0</td>\n",
       "      <td>0.0</td>\n",
       "      <td>162.0</td>\n",
       "      <td>2.5</td>\n",
       "      <td>1040.0</td>\n",
       "      <td>676.0</td>\n",
       "      <td>28</td>\n",
       "      <td>79.99</td>\n",
       "    </tr>\n",
       "    <tr>\n",
       "      <th>1</th>\n",
       "      <td>540.0</td>\n",
       "      <td>0.0</td>\n",
       "      <td>0.0</td>\n",
       "      <td>162.0</td>\n",
       "      <td>2.5</td>\n",
       "      <td>1055.0</td>\n",
       "      <td>676.0</td>\n",
       "      <td>28</td>\n",
       "      <td>61.89</td>\n",
       "    </tr>\n",
       "    <tr>\n",
       "      <th>2</th>\n",
       "      <td>332.5</td>\n",
       "      <td>142.5</td>\n",
       "      <td>0.0</td>\n",
       "      <td>228.0</td>\n",
       "      <td>0.0</td>\n",
       "      <td>932.0</td>\n",
       "      <td>594.0</td>\n",
       "      <td>270</td>\n",
       "      <td>40.27</td>\n",
       "    </tr>\n",
       "    <tr>\n",
       "      <th>3</th>\n",
       "      <td>332.5</td>\n",
       "      <td>142.5</td>\n",
       "      <td>0.0</td>\n",
       "      <td>228.0</td>\n",
       "      <td>0.0</td>\n",
       "      <td>932.0</td>\n",
       "      <td>594.0</td>\n",
       "      <td>365</td>\n",
       "      <td>41.05</td>\n",
       "    </tr>\n",
       "    <tr>\n",
       "      <th>4</th>\n",
       "      <td>198.6</td>\n",
       "      <td>132.4</td>\n",
       "      <td>0.0</td>\n",
       "      <td>192.0</td>\n",
       "      <td>0.0</td>\n",
       "      <td>978.4</td>\n",
       "      <td>825.5</td>\n",
       "      <td>360</td>\n",
       "      <td>44.30</td>\n",
       "    </tr>\n",
       "  </tbody>\n",
       "</table>\n",
       "</div>"
      ],
      "text/plain": [
       "   Cement  Blast Furnace Slag  Fly Ash  Water  Superplasticizer  \\\n",
       "0   540.0                 0.0      0.0  162.0               2.5   \n",
       "1   540.0                 0.0      0.0  162.0               2.5   \n",
       "2   332.5               142.5      0.0  228.0               0.0   \n",
       "3   332.5               142.5      0.0  228.0               0.0   \n",
       "4   198.6               132.4      0.0  192.0               0.0   \n",
       "\n",
       "   Coarse Aggregate  Fine Aggregate  Age  Strength  \n",
       "0            1040.0           676.0   28     79.99  \n",
       "1            1055.0           676.0   28     61.89  \n",
       "2             932.0           594.0  270     40.27  \n",
       "3             932.0           594.0  365     41.05  \n",
       "4             978.4           825.5  360     44.30  "
      ]
     },
     "execution_count": 93,
     "metadata": {},
     "output_type": "execute_result"
    }
   ],
   "source": [
    "df=pd.read_csv(\"concrete_data.csv\")\n",
    "df.head()"
   ]
  },
  {
   "cell_type": "markdown",
   "id": "bea55c34",
   "metadata": {},
   "source": [
    "Let's check how many data points we have."
   ]
  },
  {
   "cell_type": "code",
   "execution_count": 94,
   "id": "dc094491",
   "metadata": {},
   "outputs": [
    {
     "data": {
      "text/plain": [
       "(1030, 9)"
      ]
     },
     "execution_count": 94,
     "metadata": {},
     "output_type": "execute_result"
    }
   ],
   "source": [
    "df.shape"
   ]
  },
  {
   "cell_type": "markdown",
   "id": "0c22539a",
   "metadata": {},
   "source": [
    "So, there are approximately 1000 samples to train our model on. \n",
    "Because of the few samples, we have to be careful not to overfit the training data.\n",
    "\n",
    "Let's check the dataset for any missing values."
   ]
  },
  {
   "cell_type": "code",
   "execution_count": 95,
   "id": "001eeb72",
   "metadata": {},
   "outputs": [
    {
     "data": {
      "text/html": [
       "<div>\n",
       "<style scoped>\n",
       "    .dataframe tbody tr th:only-of-type {\n",
       "        vertical-align: middle;\n",
       "    }\n",
       "\n",
       "    .dataframe tbody tr th {\n",
       "        vertical-align: top;\n",
       "    }\n",
       "\n",
       "    .dataframe thead th {\n",
       "        text-align: right;\n",
       "    }\n",
       "</style>\n",
       "<table border=\"1\" class=\"dataframe\">\n",
       "  <thead>\n",
       "    <tr style=\"text-align: right;\">\n",
       "      <th></th>\n",
       "      <th>Cement</th>\n",
       "      <th>Blast Furnace Slag</th>\n",
       "      <th>Fly Ash</th>\n",
       "      <th>Water</th>\n",
       "      <th>Superplasticizer</th>\n",
       "      <th>Coarse Aggregate</th>\n",
       "      <th>Fine Aggregate</th>\n",
       "      <th>Age</th>\n",
       "      <th>Strength</th>\n",
       "    </tr>\n",
       "  </thead>\n",
       "  <tbody>\n",
       "    <tr>\n",
       "      <th>count</th>\n",
       "      <td>1030.000000</td>\n",
       "      <td>1030.000000</td>\n",
       "      <td>1030.000000</td>\n",
       "      <td>1030.000000</td>\n",
       "      <td>1030.000000</td>\n",
       "      <td>1030.000000</td>\n",
       "      <td>1030.000000</td>\n",
       "      <td>1030.000000</td>\n",
       "      <td>1030.000000</td>\n",
       "    </tr>\n",
       "    <tr>\n",
       "      <th>mean</th>\n",
       "      <td>281.167864</td>\n",
       "      <td>73.895825</td>\n",
       "      <td>54.188350</td>\n",
       "      <td>181.567282</td>\n",
       "      <td>6.204660</td>\n",
       "      <td>972.918932</td>\n",
       "      <td>773.580485</td>\n",
       "      <td>45.662136</td>\n",
       "      <td>35.817961</td>\n",
       "    </tr>\n",
       "    <tr>\n",
       "      <th>std</th>\n",
       "      <td>104.506364</td>\n",
       "      <td>86.279342</td>\n",
       "      <td>63.997004</td>\n",
       "      <td>21.354219</td>\n",
       "      <td>5.973841</td>\n",
       "      <td>77.753954</td>\n",
       "      <td>80.175980</td>\n",
       "      <td>63.169912</td>\n",
       "      <td>16.705742</td>\n",
       "    </tr>\n",
       "    <tr>\n",
       "      <th>min</th>\n",
       "      <td>102.000000</td>\n",
       "      <td>0.000000</td>\n",
       "      <td>0.000000</td>\n",
       "      <td>121.800000</td>\n",
       "      <td>0.000000</td>\n",
       "      <td>801.000000</td>\n",
       "      <td>594.000000</td>\n",
       "      <td>1.000000</td>\n",
       "      <td>2.330000</td>\n",
       "    </tr>\n",
       "    <tr>\n",
       "      <th>25%</th>\n",
       "      <td>192.375000</td>\n",
       "      <td>0.000000</td>\n",
       "      <td>0.000000</td>\n",
       "      <td>164.900000</td>\n",
       "      <td>0.000000</td>\n",
       "      <td>932.000000</td>\n",
       "      <td>730.950000</td>\n",
       "      <td>7.000000</td>\n",
       "      <td>23.710000</td>\n",
       "    </tr>\n",
       "    <tr>\n",
       "      <th>50%</th>\n",
       "      <td>272.900000</td>\n",
       "      <td>22.000000</td>\n",
       "      <td>0.000000</td>\n",
       "      <td>185.000000</td>\n",
       "      <td>6.400000</td>\n",
       "      <td>968.000000</td>\n",
       "      <td>779.500000</td>\n",
       "      <td>28.000000</td>\n",
       "      <td>34.445000</td>\n",
       "    </tr>\n",
       "    <tr>\n",
       "      <th>75%</th>\n",
       "      <td>350.000000</td>\n",
       "      <td>142.950000</td>\n",
       "      <td>118.300000</td>\n",
       "      <td>192.000000</td>\n",
       "      <td>10.200000</td>\n",
       "      <td>1029.400000</td>\n",
       "      <td>824.000000</td>\n",
       "      <td>56.000000</td>\n",
       "      <td>46.135000</td>\n",
       "    </tr>\n",
       "    <tr>\n",
       "      <th>max</th>\n",
       "      <td>540.000000</td>\n",
       "      <td>359.400000</td>\n",
       "      <td>200.100000</td>\n",
       "      <td>247.000000</td>\n",
       "      <td>32.200000</td>\n",
       "      <td>1145.000000</td>\n",
       "      <td>992.600000</td>\n",
       "      <td>365.000000</td>\n",
       "      <td>82.600000</td>\n",
       "    </tr>\n",
       "  </tbody>\n",
       "</table>\n",
       "</div>"
      ],
      "text/plain": [
       "            Cement  Blast Furnace Slag      Fly Ash        Water  \\\n",
       "count  1030.000000         1030.000000  1030.000000  1030.000000   \n",
       "mean    281.167864           73.895825    54.188350   181.567282   \n",
       "std     104.506364           86.279342    63.997004    21.354219   \n",
       "min     102.000000            0.000000     0.000000   121.800000   \n",
       "25%     192.375000            0.000000     0.000000   164.900000   \n",
       "50%     272.900000           22.000000     0.000000   185.000000   \n",
       "75%     350.000000          142.950000   118.300000   192.000000   \n",
       "max     540.000000          359.400000   200.100000   247.000000   \n",
       "\n",
       "       Superplasticizer  Coarse Aggregate  Fine Aggregate          Age  \\\n",
       "count       1030.000000       1030.000000     1030.000000  1030.000000   \n",
       "mean           6.204660        972.918932      773.580485    45.662136   \n",
       "std            5.973841         77.753954       80.175980    63.169912   \n",
       "min            0.000000        801.000000      594.000000     1.000000   \n",
       "25%            0.000000        932.000000      730.950000     7.000000   \n",
       "50%            6.400000        968.000000      779.500000    28.000000   \n",
       "75%           10.200000       1029.400000      824.000000    56.000000   \n",
       "max           32.200000       1145.000000      992.600000   365.000000   \n",
       "\n",
       "          Strength  \n",
       "count  1030.000000  \n",
       "mean     35.817961  \n",
       "std      16.705742  \n",
       "min       2.330000  \n",
       "25%      23.710000  \n",
       "50%      34.445000  \n",
       "75%      46.135000  \n",
       "max      82.600000  "
      ]
     },
     "execution_count": 95,
     "metadata": {},
     "output_type": "execute_result"
    }
   ],
   "source": [
    "df.describe()"
   ]
  },
  {
   "cell_type": "code",
   "execution_count": 96,
   "id": "d253664b",
   "metadata": {},
   "outputs": [
    {
     "data": {
      "text/plain": [
       "Cement                0\n",
       "Blast Furnace Slag    0\n",
       "Fly Ash               0\n",
       "Water                 0\n",
       "Superplasticizer      0\n",
       "Coarse Aggregate      0\n",
       "Fine Aggregate        0\n",
       "Age                   0\n",
       "Strength              0\n",
       "dtype: int64"
      ]
     },
     "execution_count": 96,
     "metadata": {},
     "output_type": "execute_result"
    }
   ],
   "source": [
    "df.isnull().sum()"
   ]
  },
  {
   "cell_type": "markdown",
   "id": "b24cb1d3",
   "metadata": {},
   "source": [
    "The data is ready to be used to build our model."
   ]
  },
  {
   "cell_type": "markdown",
   "id": "c049a201",
   "metadata": {},
   "source": [
    "### Split data into predictors and target"
   ]
  },
  {
   "cell_type": "markdown",
   "id": "2fb6dd30",
   "metadata": {},
   "source": [
    "The target variable in this problem is the concrete sample strength. Therefore, our predictors will be all the other columns."
   ]
  },
  {
   "cell_type": "code",
   "execution_count": 97,
   "id": "88519411",
   "metadata": {},
   "outputs": [],
   "source": [
    "concrete_data_columns = df.columns\n",
    "predictors = df[concrete_data_columns[concrete_data_columns != 'Strength']] # all columns except Strength\n",
    "target = df['Strength']"
   ]
  },
  {
   "cell_type": "markdown",
   "id": "d6dd430b",
   "metadata": {},
   "source": [
    "Let's do a check of the predictors and the target dataframes."
   ]
  },
  {
   "cell_type": "code",
   "execution_count": 98,
   "id": "7855414e",
   "metadata": {},
   "outputs": [
    {
     "data": {
      "text/html": [
       "<div>\n",
       "<style scoped>\n",
       "    .dataframe tbody tr th:only-of-type {\n",
       "        vertical-align: middle;\n",
       "    }\n",
       "\n",
       "    .dataframe tbody tr th {\n",
       "        vertical-align: top;\n",
       "    }\n",
       "\n",
       "    .dataframe thead th {\n",
       "        text-align: right;\n",
       "    }\n",
       "</style>\n",
       "<table border=\"1\" class=\"dataframe\">\n",
       "  <thead>\n",
       "    <tr style=\"text-align: right;\">\n",
       "      <th></th>\n",
       "      <th>Cement</th>\n",
       "      <th>Blast Furnace Slag</th>\n",
       "      <th>Fly Ash</th>\n",
       "      <th>Water</th>\n",
       "      <th>Superplasticizer</th>\n",
       "      <th>Coarse Aggregate</th>\n",
       "      <th>Fine Aggregate</th>\n",
       "      <th>Age</th>\n",
       "    </tr>\n",
       "  </thead>\n",
       "  <tbody>\n",
       "    <tr>\n",
       "      <th>0</th>\n",
       "      <td>540.0</td>\n",
       "      <td>0.0</td>\n",
       "      <td>0.0</td>\n",
       "      <td>162.0</td>\n",
       "      <td>2.5</td>\n",
       "      <td>1040.0</td>\n",
       "      <td>676.0</td>\n",
       "      <td>28</td>\n",
       "    </tr>\n",
       "    <tr>\n",
       "      <th>1</th>\n",
       "      <td>540.0</td>\n",
       "      <td>0.0</td>\n",
       "      <td>0.0</td>\n",
       "      <td>162.0</td>\n",
       "      <td>2.5</td>\n",
       "      <td>1055.0</td>\n",
       "      <td>676.0</td>\n",
       "      <td>28</td>\n",
       "    </tr>\n",
       "    <tr>\n",
       "      <th>2</th>\n",
       "      <td>332.5</td>\n",
       "      <td>142.5</td>\n",
       "      <td>0.0</td>\n",
       "      <td>228.0</td>\n",
       "      <td>0.0</td>\n",
       "      <td>932.0</td>\n",
       "      <td>594.0</td>\n",
       "      <td>270</td>\n",
       "    </tr>\n",
       "    <tr>\n",
       "      <th>3</th>\n",
       "      <td>332.5</td>\n",
       "      <td>142.5</td>\n",
       "      <td>0.0</td>\n",
       "      <td>228.0</td>\n",
       "      <td>0.0</td>\n",
       "      <td>932.0</td>\n",
       "      <td>594.0</td>\n",
       "      <td>365</td>\n",
       "    </tr>\n",
       "    <tr>\n",
       "      <th>4</th>\n",
       "      <td>198.6</td>\n",
       "      <td>132.4</td>\n",
       "      <td>0.0</td>\n",
       "      <td>192.0</td>\n",
       "      <td>0.0</td>\n",
       "      <td>978.4</td>\n",
       "      <td>825.5</td>\n",
       "      <td>360</td>\n",
       "    </tr>\n",
       "  </tbody>\n",
       "</table>\n",
       "</div>"
      ],
      "text/plain": [
       "   Cement  Blast Furnace Slag  Fly Ash  Water  Superplasticizer  \\\n",
       "0   540.0                 0.0      0.0  162.0               2.5   \n",
       "1   540.0                 0.0      0.0  162.0               2.5   \n",
       "2   332.5               142.5      0.0  228.0               0.0   \n",
       "3   332.5               142.5      0.0  228.0               0.0   \n",
       "4   198.6               132.4      0.0  192.0               0.0   \n",
       "\n",
       "   Coarse Aggregate  Fine Aggregate  Age  \n",
       "0            1040.0           676.0   28  \n",
       "1            1055.0           676.0   28  \n",
       "2             932.0           594.0  270  \n",
       "3             932.0           594.0  365  \n",
       "4             978.4           825.5  360  "
      ]
     },
     "execution_count": 98,
     "metadata": {},
     "output_type": "execute_result"
    }
   ],
   "source": [
    "predictors.head()"
   ]
  },
  {
   "cell_type": "code",
   "execution_count": 99,
   "id": "e3abd2a0",
   "metadata": {},
   "outputs": [
    {
     "data": {
      "text/plain": [
       "0    79.99\n",
       "1    61.89\n",
       "2    40.27\n",
       "3    41.05\n",
       "4    44.30\n",
       "Name: Strength, dtype: float64"
      ]
     },
     "execution_count": 99,
     "metadata": {},
     "output_type": "execute_result"
    }
   ],
   "source": [
    "target.head()"
   ]
  },
  {
   "cell_type": "markdown",
   "id": "e7224bdc",
   "metadata": {},
   "source": [
    "Recall that one way to normalize the data is by subtracting the mean from the individual predictors and dividing by the standard deviation"
   ]
  },
  {
   "cell_type": "code",
   "execution_count": 100,
   "id": "47981265",
   "metadata": {},
   "outputs": [
    {
     "data": {
      "text/html": [
       "<div>\n",
       "<style scoped>\n",
       "    .dataframe tbody tr th:only-of-type {\n",
       "        vertical-align: middle;\n",
       "    }\n",
       "\n",
       "    .dataframe tbody tr th {\n",
       "        vertical-align: top;\n",
       "    }\n",
       "\n",
       "    .dataframe thead th {\n",
       "        text-align: right;\n",
       "    }\n",
       "</style>\n",
       "<table border=\"1\" class=\"dataframe\">\n",
       "  <thead>\n",
       "    <tr style=\"text-align: right;\">\n",
       "      <th></th>\n",
       "      <th>Cement</th>\n",
       "      <th>Blast Furnace Slag</th>\n",
       "      <th>Fly Ash</th>\n",
       "      <th>Water</th>\n",
       "      <th>Superplasticizer</th>\n",
       "      <th>Coarse Aggregate</th>\n",
       "      <th>Fine Aggregate</th>\n",
       "      <th>Age</th>\n",
       "    </tr>\n",
       "  </thead>\n",
       "  <tbody>\n",
       "    <tr>\n",
       "      <th>0</th>\n",
       "      <td>2.476712</td>\n",
       "      <td>-0.856472</td>\n",
       "      <td>-0.846733</td>\n",
       "      <td>-0.916319</td>\n",
       "      <td>-0.620147</td>\n",
       "      <td>0.862735</td>\n",
       "      <td>-1.217079</td>\n",
       "      <td>-0.279597</td>\n",
       "    </tr>\n",
       "    <tr>\n",
       "      <th>1</th>\n",
       "      <td>2.476712</td>\n",
       "      <td>-0.856472</td>\n",
       "      <td>-0.846733</td>\n",
       "      <td>-0.916319</td>\n",
       "      <td>-0.620147</td>\n",
       "      <td>1.055651</td>\n",
       "      <td>-1.217079</td>\n",
       "      <td>-0.279597</td>\n",
       "    </tr>\n",
       "    <tr>\n",
       "      <th>2</th>\n",
       "      <td>0.491187</td>\n",
       "      <td>0.795140</td>\n",
       "      <td>-0.846733</td>\n",
       "      <td>2.174405</td>\n",
       "      <td>-1.038638</td>\n",
       "      <td>-0.526262</td>\n",
       "      <td>-2.239829</td>\n",
       "      <td>3.551340</td>\n",
       "    </tr>\n",
       "    <tr>\n",
       "      <th>3</th>\n",
       "      <td>0.491187</td>\n",
       "      <td>0.795140</td>\n",
       "      <td>-0.846733</td>\n",
       "      <td>2.174405</td>\n",
       "      <td>-1.038638</td>\n",
       "      <td>-0.526262</td>\n",
       "      <td>-2.239829</td>\n",
       "      <td>5.055221</td>\n",
       "    </tr>\n",
       "    <tr>\n",
       "      <th>4</th>\n",
       "      <td>-0.790075</td>\n",
       "      <td>0.678079</td>\n",
       "      <td>-0.846733</td>\n",
       "      <td>0.488555</td>\n",
       "      <td>-1.038638</td>\n",
       "      <td>0.070492</td>\n",
       "      <td>0.647569</td>\n",
       "      <td>4.976069</td>\n",
       "    </tr>\n",
       "  </tbody>\n",
       "</table>\n",
       "</div>"
      ],
      "text/plain": [
       "     Cement  Blast Furnace Slag   Fly Ash     Water  Superplasticizer  \\\n",
       "0  2.476712           -0.856472 -0.846733 -0.916319         -0.620147   \n",
       "1  2.476712           -0.856472 -0.846733 -0.916319         -0.620147   \n",
       "2  0.491187            0.795140 -0.846733  2.174405         -1.038638   \n",
       "3  0.491187            0.795140 -0.846733  2.174405         -1.038638   \n",
       "4 -0.790075            0.678079 -0.846733  0.488555         -1.038638   \n",
       "\n",
       "   Coarse Aggregate  Fine Aggregate       Age  \n",
       "0          0.862735       -1.217079 -0.279597  \n",
       "1          1.055651       -1.217079 -0.279597  \n",
       "2         -0.526262       -2.239829  3.551340  \n",
       "3         -0.526262       -2.239829  5.055221  \n",
       "4          0.070492        0.647569  4.976069  "
      ]
     },
     "execution_count": 100,
     "metadata": {},
     "output_type": "execute_result"
    }
   ],
   "source": [
    "predictors_norm = (predictors - predictors.mean()) / predictors.std()\n",
    "predictors_norm.head()"
   ]
  },
  {
   "cell_type": "code",
   "execution_count": 101,
   "id": "a5c82db5",
   "metadata": {},
   "outputs": [
    {
     "data": {
      "text/plain": [
       "8"
      ]
     },
     "execution_count": 101,
     "metadata": {},
     "output_type": "execute_result"
    }
   ],
   "source": [
    "n_cols=predictors_norm.shape[1]\n",
    "n_cols"
   ]
  },
  {
   "cell_type": "markdown",
   "id": "653c11b5",
   "metadata": {},
   "source": [
    "### Import Keras"
   ]
  },
  {
   "cell_type": "code",
   "execution_count": 102,
   "id": "f42164bf",
   "metadata": {},
   "outputs": [],
   "source": [
    "import keras"
   ]
  },
  {
   "cell_type": "code",
   "execution_count": 103,
   "id": "0b256cb1",
   "metadata": {},
   "outputs": [],
   "source": [
    "from keras.models import Sequential\n",
    "from keras.layers import Dense"
   ]
  },
  {
   "cell_type": "code",
   "execution_count": 104,
   "id": "3f28bb76",
   "metadata": {},
   "outputs": [],
   "source": [
    "def regression_model():\n",
    "    # create model\n",
    "    model = Sequential()\n",
    "    model.add(Dense(10, activation='relu', input_shape=(n_cols,)))\n",
    "    model.add(Dense(1))\n",
    "    \n",
    "    # compile model\n",
    "    model.compile(optimizer='adam', loss='mean_squared_error')\n",
    "    return model"
   ]
  },
  {
   "cell_type": "markdown",
   "id": "0448aa90",
   "metadata": {},
   "source": [
    "The regression_model function creates a model that has one hidden layer with 10 neurons and a ReLU activation function. It uses the adam optimizer and the mean squared error as the loss function."
   ]
  },
  {
   "cell_type": "code",
   "execution_count": 105,
   "id": "cfab360f",
   "metadata": {},
   "outputs": [],
   "source": [
    "from sklearn.model_selection import train_test_split"
   ]
  },
  {
   "cell_type": "markdown",
   "id": "72246aea",
   "metadata": {},
   "source": [
    "Randomly splitting the data into a training and test sets by holding 30% of the data for testing"
   ]
  },
  {
   "cell_type": "code",
   "execution_count": 106,
   "id": "184cc8f4",
   "metadata": {},
   "outputs": [],
   "source": [
    "X_train, X_test, y_train, y_test = train_test_split(predictors_norm, target, test_size=0.3, random_state=42)"
   ]
  },
  {
   "cell_type": "markdown",
   "id": "4d210ad5",
   "metadata": {},
   "source": [
    "### Train the Model"
   ]
  },
  {
   "cell_type": "markdown",
   "id": "9f3798dc",
   "metadata": {},
   "source": [
    "Let's create our model."
   ]
  },
  {
   "cell_type": "code",
   "execution_count": 107,
   "id": "8951ce35",
   "metadata": {},
   "outputs": [],
   "source": [
    "# build the model\n",
    "model = regression_model()"
   ]
  },
  {
   "cell_type": "markdown",
   "id": "cfad9a50",
   "metadata": {},
   "source": [
    "Train the model on the training data using 100 epochs."
   ]
  },
  {
   "cell_type": "code",
   "execution_count": 108,
   "id": "211587d9",
   "metadata": {},
   "outputs": [
    {
     "name": "stdout",
     "output_type": "stream",
     "text": [
      "Epoch 1/100\n",
      "23/23 [==============================] - 0s 1ms/step - loss: 1592.0492\n",
      "Epoch 2/100\n",
      "23/23 [==============================] - 0s 1ms/step - loss: 1575.3895\n",
      "Epoch 3/100\n",
      "23/23 [==============================] - 0s 1ms/step - loss: 1558.7950\n",
      "Epoch 4/100\n",
      "23/23 [==============================] - 0s 1ms/step - loss: 1541.7545\n",
      "Epoch 5/100\n",
      "23/23 [==============================] - 0s 1ms/step - loss: 1524.5636\n",
      "Epoch 6/100\n",
      "23/23 [==============================] - 0s 1ms/step - loss: 1507.0203\n",
      "Epoch 7/100\n",
      "23/23 [==============================] - 0s 933us/step - loss: 1488.9087\n",
      "Epoch 8/100\n",
      "23/23 [==============================] - 0s 1ms/step - loss: 1470.1073\n",
      "Epoch 9/100\n",
      "23/23 [==============================] - 0s 944us/step - loss: 1450.9132\n",
      "Epoch 10/100\n",
      "23/23 [==============================] - 0s 922us/step - loss: 1430.7131\n",
      "Epoch 11/100\n",
      "23/23 [==============================] - 0s 895us/step - loss: 1409.7131\n",
      "Epoch 12/100\n",
      "23/23 [==============================] - 0s 894us/step - loss: 1387.6870\n",
      "Epoch 13/100\n",
      "23/23 [==============================] - 0s 890us/step - loss: 1364.6383\n",
      "Epoch 14/100\n",
      "23/23 [==============================] - 0s 1ms/step - loss: 1340.5720\n",
      "Epoch 15/100\n",
      "23/23 [==============================] - 0s 941us/step - loss: 1315.3140\n",
      "Epoch 16/100\n",
      "23/23 [==============================] - 0s 889us/step - loss: 1289.2065\n",
      "Epoch 17/100\n",
      "23/23 [==============================] - 0s 951us/step - loss: 1262.0145\n",
      "Epoch 18/100\n",
      "23/23 [==============================] - 0s 1ms/step - loss: 1234.4279\n",
      "Epoch 19/100\n",
      "23/23 [==============================] - 0s 898us/step - loss: 1205.7747\n",
      "Epoch 20/100\n",
      "23/23 [==============================] - 0s 854us/step - loss: 1176.3254\n",
      "Epoch 21/100\n",
      "23/23 [==============================] - 0s 883us/step - loss: 1146.5710\n",
      "Epoch 22/100\n",
      "23/23 [==============================] - 0s 1ms/step - loss: 1116.7091\n",
      "Epoch 23/100\n",
      "23/23 [==============================] - 0s 892us/step - loss: 1086.1412\n",
      "Epoch 24/100\n",
      "23/23 [==============================] - 0s 894us/step - loss: 1055.7155\n",
      "Epoch 25/100\n",
      "23/23 [==============================] - 0s 940us/step - loss: 1024.8815\n",
      "Epoch 26/100\n",
      "23/23 [==============================] - 0s 1ms/step - loss: 994.4645\n",
      "Epoch 27/100\n",
      "23/23 [==============================] - 0s 912us/step - loss: 964.2357\n",
      "Epoch 28/100\n",
      "23/23 [==============================] - 0s 988us/step - loss: 934.7072\n",
      "Epoch 29/100\n",
      "23/23 [==============================] - 0s 1ms/step - loss: 904.8114\n",
      "Epoch 30/100\n",
      "23/23 [==============================] - 0s 992us/step - loss: 875.8607\n",
      "Epoch 31/100\n",
      "23/23 [==============================] - 0s 909us/step - loss: 847.5464\n",
      "Epoch 32/100\n",
      "23/23 [==============================] - 0s 876us/step - loss: 819.3440\n",
      "Epoch 33/100\n",
      "23/23 [==============================] - 0s 941us/step - loss: 792.3061\n",
      "Epoch 34/100\n",
      "23/23 [==============================] - 0s 971us/step - loss: 765.4812\n",
      "Epoch 35/100\n",
      "23/23 [==============================] - 0s 931us/step - loss: 740.3782\n",
      "Epoch 36/100\n",
      "23/23 [==============================] - 0s 879us/step - loss: 715.3965\n",
      "Epoch 37/100\n",
      "23/23 [==============================] - 0s 908us/step - loss: 690.9449\n",
      "Epoch 38/100\n",
      "23/23 [==============================] - 0s 937us/step - loss: 667.5553\n",
      "Epoch 39/100\n",
      "23/23 [==============================] - 0s 1ms/step - loss: 645.1557\n",
      "Epoch 40/100\n",
      "23/23 [==============================] - 0s 877us/step - loss: 623.5518\n",
      "Epoch 41/100\n",
      "23/23 [==============================] - 0s 877us/step - loss: 602.3211\n",
      "Epoch 42/100\n",
      "23/23 [==============================] - 0s 940us/step - loss: 582.3203\n",
      "Epoch 43/100\n",
      "23/23 [==============================] - 0s 864us/step - loss: 562.7590\n",
      "Epoch 44/100\n",
      "23/23 [==============================] - 0s 943us/step - loss: 543.7476\n",
      "Epoch 45/100\n",
      "23/23 [==============================] - 0s 940us/step - loss: 525.6745\n",
      "Epoch 46/100\n",
      "23/23 [==============================] - 0s 925us/step - loss: 508.4846\n",
      "Epoch 47/100\n",
      "23/23 [==============================] - 0s 962us/step - loss: 491.9748\n",
      "Epoch 48/100\n",
      "23/23 [==============================] - 0s 1ms/step - loss: 475.6521\n",
      "Epoch 49/100\n",
      "23/23 [==============================] - 0s 2ms/step - loss: 460.3349\n",
      "Epoch 50/100\n",
      "23/23 [==============================] - 0s 1ms/step - loss: 445.1937\n",
      "Epoch 51/100\n",
      "23/23 [==============================] - 0s 1ms/step - loss: 430.9376\n",
      "Epoch 52/100\n",
      "23/23 [==============================] - 0s 1ms/step - loss: 416.7572\n",
      "Epoch 53/100\n",
      "23/23 [==============================] - 0s 1ms/step - loss: 403.6875\n",
      "Epoch 54/100\n",
      "23/23 [==============================] - 0s 1ms/step - loss: 390.6137\n",
      "Epoch 55/100\n",
      "23/23 [==============================] - 0s 1ms/step - loss: 378.1994\n",
      "Epoch 56/100\n",
      "23/23 [==============================] - 0s 938us/step - loss: 366.2806\n",
      "Epoch 57/100\n",
      "23/23 [==============================] - 0s 2ms/step - loss: 354.6807\n",
      "Epoch 58/100\n",
      "23/23 [==============================] - 0s 932us/step - loss: 343.8311\n",
      "Epoch 59/100\n",
      "23/23 [==============================] - 0s 917us/step - loss: 333.1823\n",
      "Epoch 60/100\n",
      "23/23 [==============================] - 0s 1ms/step - loss: 323.0099\n",
      "Epoch 61/100\n",
      "23/23 [==============================] - 0s 1ms/step - loss: 313.2550\n",
      "Epoch 62/100\n",
      "23/23 [==============================] - 0s 922us/step - loss: 303.9904\n",
      "Epoch 63/100\n",
      "23/23 [==============================] - 0s 970us/step - loss: 295.1022\n",
      "Epoch 64/100\n",
      "23/23 [==============================] - 0s 863us/step - loss: 286.3600\n",
      "Epoch 65/100\n",
      "23/23 [==============================] - 0s 876us/step - loss: 278.2161\n",
      "Epoch 66/100\n",
      "23/23 [==============================] - 0s 894us/step - loss: 270.3359\n",
      "Epoch 67/100\n",
      "23/23 [==============================] - 0s 802us/step - loss: 262.8611\n",
      "Epoch 68/100\n",
      "23/23 [==============================] - 0s 895us/step - loss: 255.8968\n",
      "Epoch 69/100\n",
      "23/23 [==============================] - 0s 850us/step - loss: 248.8359\n",
      "Epoch 70/100\n",
      "23/23 [==============================] - 0s 860us/step - loss: 242.5810\n",
      "Epoch 71/100\n",
      "23/23 [==============================] - 0s 2ms/step - loss: 236.4222\n",
      "Epoch 72/100\n",
      "23/23 [==============================] - 0s 1ms/step - loss: 230.4624\n",
      "Epoch 73/100\n",
      "23/23 [==============================] - 0s 1ms/step - loss: 225.0607\n",
      "Epoch 74/100\n",
      "23/23 [==============================] - 0s 1ms/step - loss: 219.6678\n",
      "Epoch 75/100\n",
      "23/23 [==============================] - 0s 916us/step - loss: 214.9243\n",
      "Epoch 76/100\n",
      "23/23 [==============================] - 0s 944us/step - loss: 210.2169\n",
      "Epoch 77/100\n",
      "23/23 [==============================] - 0s 1ms/step - loss: 205.9502\n",
      "Epoch 78/100\n",
      "23/23 [==============================] - 0s 1ms/step - loss: 201.7752\n",
      "Epoch 79/100\n",
      "23/23 [==============================] - 0s 1ms/step - loss: 198.1006\n",
      "Epoch 80/100\n",
      "23/23 [==============================] - 0s 1ms/step - loss: 194.5592\n",
      "Epoch 81/100\n",
      "23/23 [==============================] - 0s 978us/step - loss: 191.3135\n",
      "Epoch 82/100\n",
      "23/23 [==============================] - 0s 895us/step - loss: 188.2370\n",
      "Epoch 83/100\n",
      "23/23 [==============================] - 0s 988us/step - loss: 185.2139\n",
      "Epoch 84/100\n",
      "23/23 [==============================] - 0s 926us/step - loss: 182.5404\n",
      "Epoch 85/100\n",
      "23/23 [==============================] - 0s 915us/step - loss: 180.0027\n",
      "Epoch 86/100\n",
      "23/23 [==============================] - 0s 1ms/step - loss: 177.6641\n",
      "Epoch 87/100\n",
      "23/23 [==============================] - 0s 849us/step - loss: 175.4755\n",
      "Epoch 88/100\n",
      "23/23 [==============================] - 0s 1ms/step - loss: 173.3387\n",
      "Epoch 89/100\n",
      "23/23 [==============================] - 0s 1ms/step - loss: 171.4678\n",
      "Epoch 90/100\n",
      "23/23 [==============================] - 0s 1ms/step - loss: 169.7373\n",
      "Epoch 91/100\n",
      "23/23 [==============================] - 0s 1ms/step - loss: 168.0308\n",
      "Epoch 92/100\n",
      "23/23 [==============================] - 0s 1ms/step - loss: 166.4518\n",
      "Epoch 93/100\n",
      "23/23 [==============================] - 0s 939us/step - loss: 164.9960\n",
      "Epoch 94/100\n",
      "23/23 [==============================] - 0s 946us/step - loss: 163.6272\n",
      "Epoch 95/100\n",
      "23/23 [==============================] - 0s 882us/step - loss: 162.2748\n",
      "Epoch 96/100\n",
      "23/23 [==============================] - 0s 1ms/step - loss: 161.0354\n",
      "Epoch 97/100\n",
      "23/23 [==============================] - 0s 845us/step - loss: 159.8763\n",
      "Epoch 98/100\n",
      "23/23 [==============================] - 0s 888us/step - loss: 158.7436\n",
      "Epoch 99/100\n",
      "23/23 [==============================] - 0s 869us/step - loss: 157.6690\n",
      "Epoch 100/100\n",
      "23/23 [==============================] - 0s 843us/step - loss: 156.6294\n"
     ]
    },
    {
     "data": {
      "text/plain": [
       "<keras.callbacks.History at 0x24fa3b80a90>"
      ]
     },
     "execution_count": 108,
     "metadata": {},
     "output_type": "execute_result"
    }
   ],
   "source": [
    "epochs = 100\n",
    "model.fit(X_train, y_train, epochs=epochs, verbose=1)"
   ]
  },
  {
   "cell_type": "markdown",
   "id": "6e2dad7a",
   "metadata": {},
   "source": [
    "Evaluate the model on the test data "
   ]
  },
  {
   "cell_type": "code",
   "execution_count": 109,
   "id": "4c564374",
   "metadata": {},
   "outputs": [
    {
     "name": "stdout",
     "output_type": "stream",
     "text": [
      "10/10 [==============================] - 0s 786us/step - loss: 150.2148\n",
      "10/10 [==============================] - 0s 880us/step\n"
     ]
    },
    {
     "data": {
      "text/plain": [
       "150.21481323242188"
      ]
     },
     "execution_count": 109,
     "metadata": {},
     "output_type": "execute_result"
    }
   ],
   "source": [
    "loss_val = model.evaluate(X_test, y_test)\n",
    "y_pred = model.predict(X_test)\n",
    "loss_val"
   ]
  },
  {
   "cell_type": "code",
   "execution_count": 110,
   "id": "d509092d",
   "metadata": {},
   "outputs": [],
   "source": [
    "from sklearn.metrics import mean_squared_error"
   ]
  },
  {
   "cell_type": "markdown",
   "id": "3b300840",
   "metadata": {},
   "source": [
    "Compute the mean_squared_error between the predict concrete strength and the actual concrete strength"
   ]
  },
  {
   "cell_type": "code",
   "execution_count": 111,
   "id": "d3d248a0",
   "metadata": {},
   "outputs": [
    {
     "name": "stdout",
     "output_type": "stream",
     "text": [
      "150.2148204281324 0.0\n"
     ]
    }
   ],
   "source": [
    "mean_square_error = mean_squared_error(y_test, y_pred)\n",
    "mean = np.mean(mean_square_error)\n",
    "standard_deviation = np.std(mean_square_error)\n",
    "print(mean, standard_deviation)"
   ]
  },
  {
   "cell_type": "markdown",
   "id": "fffd782c",
   "metadata": {},
   "source": [
    "Create a list of 50 mean squared errors  and report mean and the standard deviation of the mean squared errors"
   ]
  },
  {
   "cell_type": "code",
   "execution_count": 112,
   "id": "2be770d4",
   "metadata": {},
   "outputs": [
    {
     "name": "stdout",
     "output_type": "stream",
     "text": [
      "MSE 1: 83.54718017578125\n",
      "10/10 [==============================] - 0s 794us/step\n",
      "MSE 2: 69.39773559570312\n",
      "10/10 [==============================] - 0s 854us/step\n",
      "MSE 3: 42.583858489990234\n",
      "10/10 [==============================] - 0s 745us/step\n",
      "MSE 4: 44.410213470458984\n",
      "10/10 [==============================] - 0s 782us/step\n",
      "MSE 5: 41.792755126953125\n",
      "10/10 [==============================] - 0s 1ms/step\n",
      "MSE 6: 44.145423889160156\n",
      "10/10 [==============================] - 0s 763us/step\n",
      "MSE 7: 46.41757583618164\n",
      "10/10 [==============================] - 0s 896us/step\n",
      "MSE 8: 35.427207946777344\n",
      "10/10 [==============================] - 0s 1ms/step\n",
      "MSE 9: 37.32645797729492\n",
      "10/10 [==============================] - 0s 846us/step\n",
      "MSE 10: 37.40609359741211\n",
      "10/10 [==============================] - 0s 918us/step\n",
      "MSE 11: 37.63352966308594\n",
      "10/10 [==============================] - 0s 775us/step\n",
      "MSE 12: 35.084381103515625\n",
      "10/10 [==============================] - 0s 1ms/step\n",
      "MSE 13: 41.408843994140625\n",
      "10/10 [==============================] - 0s 929us/step\n",
      "MSE 14: 42.18909454345703\n",
      "10/10 [==============================] - 0s 1ms/step\n",
      "MSE 15: 36.36815643310547\n",
      "10/10 [==============================] - 0s 871us/step\n",
      "MSE 16: 30.174501419067383\n",
      "10/10 [==============================] - 0s 979us/step\n",
      "MSE 17: 36.36082458496094\n",
      "10/10 [==============================] - 0s 977us/step\n",
      "MSE 18: 34.35313034057617\n",
      "10/10 [==============================] - 0s 799us/step\n",
      "MSE 19: 37.57710266113281\n",
      "10/10 [==============================] - 0s 1ms/step\n",
      "MSE 20: 38.101036071777344\n",
      "10/10 [==============================] - 0s 1ms/step\n",
      "MSE 21: 31.962278366088867\n",
      "10/10 [==============================] - 0s 1ms/step\n",
      "MSE 22: 33.42695236206055\n",
      "10/10 [==============================] - 0s 1ms/step\n",
      "MSE 23: 31.17271614074707\n",
      "10/10 [==============================] - 0s 2ms/step\n",
      "MSE 24: 33.716854095458984\n",
      "10/10 [==============================] - 0s 888us/step\n",
      "MSE 25: 35.918209075927734\n",
      "10/10 [==============================] - 0s 869us/step\n",
      "MSE 26: 39.77471923828125\n",
      "10/10 [==============================] - 0s 979us/step\n",
      "MSE 27: 32.77723693847656\n",
      "10/10 [==============================] - 0s 889us/step\n",
      "MSE 28: 32.71564483642578\n",
      "10/10 [==============================] - 0s 989us/step\n",
      "MSE 29: 35.96538543701172\n",
      "10/10 [==============================] - 0s 958us/step\n",
      "MSE 30: 36.242637634277344\n",
      "10/10 [==============================] - 0s 965us/step\n",
      "MSE 31: 34.040985107421875\n",
      "10/10 [==============================] - 0s 966us/step\n",
      "MSE 32: 30.450368881225586\n",
      "10/10 [==============================] - 0s 1ms/step\n",
      "MSE 33: 30.138261795043945\n",
      "10/10 [==============================] - 0s 1ms/step\n",
      "MSE 34: 32.00181579589844\n",
      "10/10 [==============================] - 0s 889us/step\n",
      "MSE 35: 33.631465911865234\n",
      "10/10 [==============================] - 0s 890us/step\n",
      "MSE 36: 38.938560485839844\n",
      "10/10 [==============================] - 0s 889us/step\n",
      "MSE 37: 29.17086410522461\n",
      "10/10 [==============================] - 0s 778us/step\n",
      "MSE 38: 34.731788635253906\n",
      "10/10 [==============================] - 0s 806us/step\n",
      "MSE 39: 31.203866958618164\n",
      "10/10 [==============================] - 0s 945us/step\n",
      "MSE 40: 27.57291603088379\n",
      "10/10 [==============================] - 0s 778us/step\n",
      "MSE 41: 36.17852783203125\n",
      "10/10 [==============================] - 0s 1ms/step\n",
      "MSE 42: 33.20341873168945\n",
      "10/10 [==============================] - 0s 975us/step\n",
      "MSE 43: 32.99542236328125\n",
      "10/10 [==============================] - 0s 971us/step\n",
      "MSE 44: 33.674896240234375\n",
      "10/10 [==============================] - 0s 945us/step\n",
      "MSE 45: 34.9023551940918\n",
      "10/10 [==============================] - 0s 1ms/step\n",
      "MSE 46: 35.92778015136719\n",
      "10/10 [==============================] - 0s 889us/step\n",
      "MSE 47: 33.862403869628906\n",
      "10/10 [==============================] - 0s 895us/step\n",
      "MSE 48: 32.09101486206055\n",
      "10/10 [==============================] - 0s 991us/step\n",
      "MSE 49: 33.618099212646484\n",
      "10/10 [==============================] - 0s 818us/step\n",
      "MSE 50: 34.50743865966797\n",
      "10/10 [==============================] - 0s 898us/step\n",
      "\n",
      "\n",
      "Below is the mean and standard deviation of 50 mean squared errors without normalized data. Total number of epochs for each training is: 100\n",
      "\n",
      "Mean: 37.164399513722486\n",
      "Standard Deviation: 9.08787572252088\n"
     ]
    }
   ],
   "source": [
    "total_mean_squared_errors = 50\n",
    "epochs = 100\n",
    "mean_squared_errors = []\n",
    "for i in range(0, total_mean_squared_errors):\n",
    "    X_train, X_test, y_train, y_test = train_test_split(predictors_norm, target, test_size=0.3, random_state=i)\n",
    "    model.fit(X_train, y_train, epochs=epochs, verbose=0)\n",
    "    MSE = model.evaluate(X_test, y_test, verbose=0)\n",
    "    print(\"MSE \"+str(i+1)+\": \"+str(MSE))\n",
    "    y_pred = model.predict(X_test)\n",
    "    mean_square_error = mean_squared_error(y_test, y_pred)\n",
    "    mean_squared_errors.append(mean_square_error)\n",
    "\n",
    "mean_squared_errors = np.array(mean_squared_errors)\n",
    "mean = np.mean(mean_squared_errors)\n",
    "standard_deviation = np.std(mean_squared_errors)\n",
    "\n",
    "print('\\n')\n",
    "print(\"Below is the mean and standard deviation of \" +str(total_mean_squared_errors) + \" mean squared errors without normalized data. Total number of epochs for each training is: \" +str(epochs) + \"\\n\")\n",
    "print(\"Mean: \"+str(mean))\n",
    "print(\"Standard Deviation: \"+str(standard_deviation))"
   ]
  }
 ],
 "metadata": {
  "kernelspec": {
   "display_name": "Python 3 (ipykernel)",
   "language": "python",
   "name": "python3"
  },
  "language_info": {
   "codemirror_mode": {
    "name": "ipython",
    "version": 3
   },
   "file_extension": ".py",
   "mimetype": "text/x-python",
   "name": "python",
   "nbconvert_exporter": "python",
   "pygments_lexer": "ipython3",
   "version": "3.9.13"
  }
 },
 "nbformat": 4,
 "nbformat_minor": 5
}
