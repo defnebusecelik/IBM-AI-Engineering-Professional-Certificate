{
 "cells": [
  {
   "cell_type": "markdown",
   "id": "5340fc78",
   "metadata": {},
   "source": [
    "## Build a Regression Model in Keras (A)"
   ]
  },
  {
   "cell_type": "code",
   "execution_count": 47,
   "id": "7d7c823c",
   "metadata": {},
   "outputs": [],
   "source": [
    "import pandas as pd\n",
    "import numpy as np"
   ]
  },
  {
   "cell_type": "markdown",
   "id": "ea7a563c",
   "metadata": {},
   "source": [
    "The dataset is about the compressive strength of different samples of concrete based on the volumes of the different ingredients that were used to make them. Ingredients include:\n",
    "\n",
    "1. Cement\n",
    "\n",
    "2. Blast Furnace Slag\n",
    "\n",
    "3. Fly Ash\n",
    "\n",
    "4. Water\n",
    "\n",
    "5. Superplasticizer\n",
    "\n",
    "6. Coarse Aggregate\n",
    "\n",
    "7. Fine Aggregate\n",
    "\n",
    "Let's read the dataset into a pandas dataframe."
   ]
  },
  {
   "cell_type": "code",
   "execution_count": 48,
   "id": "9db8f7ae",
   "metadata": {},
   "outputs": [
    {
     "data": {
      "text/html": [
       "<div>\n",
       "<style scoped>\n",
       "    .dataframe tbody tr th:only-of-type {\n",
       "        vertical-align: middle;\n",
       "    }\n",
       "\n",
       "    .dataframe tbody tr th {\n",
       "        vertical-align: top;\n",
       "    }\n",
       "\n",
       "    .dataframe thead th {\n",
       "        text-align: right;\n",
       "    }\n",
       "</style>\n",
       "<table border=\"1\" class=\"dataframe\">\n",
       "  <thead>\n",
       "    <tr style=\"text-align: right;\">\n",
       "      <th></th>\n",
       "      <th>Cement</th>\n",
       "      <th>Blast Furnace Slag</th>\n",
       "      <th>Fly Ash</th>\n",
       "      <th>Water</th>\n",
       "      <th>Superplasticizer</th>\n",
       "      <th>Coarse Aggregate</th>\n",
       "      <th>Fine Aggregate</th>\n",
       "      <th>Age</th>\n",
       "      <th>Strength</th>\n",
       "    </tr>\n",
       "  </thead>\n",
       "  <tbody>\n",
       "    <tr>\n",
       "      <th>0</th>\n",
       "      <td>540.0</td>\n",
       "      <td>0.0</td>\n",
       "      <td>0.0</td>\n",
       "      <td>162.0</td>\n",
       "      <td>2.5</td>\n",
       "      <td>1040.0</td>\n",
       "      <td>676.0</td>\n",
       "      <td>28</td>\n",
       "      <td>79.99</td>\n",
       "    </tr>\n",
       "    <tr>\n",
       "      <th>1</th>\n",
       "      <td>540.0</td>\n",
       "      <td>0.0</td>\n",
       "      <td>0.0</td>\n",
       "      <td>162.0</td>\n",
       "      <td>2.5</td>\n",
       "      <td>1055.0</td>\n",
       "      <td>676.0</td>\n",
       "      <td>28</td>\n",
       "      <td>61.89</td>\n",
       "    </tr>\n",
       "    <tr>\n",
       "      <th>2</th>\n",
       "      <td>332.5</td>\n",
       "      <td>142.5</td>\n",
       "      <td>0.0</td>\n",
       "      <td>228.0</td>\n",
       "      <td>0.0</td>\n",
       "      <td>932.0</td>\n",
       "      <td>594.0</td>\n",
       "      <td>270</td>\n",
       "      <td>40.27</td>\n",
       "    </tr>\n",
       "    <tr>\n",
       "      <th>3</th>\n",
       "      <td>332.5</td>\n",
       "      <td>142.5</td>\n",
       "      <td>0.0</td>\n",
       "      <td>228.0</td>\n",
       "      <td>0.0</td>\n",
       "      <td>932.0</td>\n",
       "      <td>594.0</td>\n",
       "      <td>365</td>\n",
       "      <td>41.05</td>\n",
       "    </tr>\n",
       "    <tr>\n",
       "      <th>4</th>\n",
       "      <td>198.6</td>\n",
       "      <td>132.4</td>\n",
       "      <td>0.0</td>\n",
       "      <td>192.0</td>\n",
       "      <td>0.0</td>\n",
       "      <td>978.4</td>\n",
       "      <td>825.5</td>\n",
       "      <td>360</td>\n",
       "      <td>44.30</td>\n",
       "    </tr>\n",
       "  </tbody>\n",
       "</table>\n",
       "</div>"
      ],
      "text/plain": [
       "   Cement  Blast Furnace Slag  Fly Ash  Water  Superplasticizer  \\\n",
       "0   540.0                 0.0      0.0  162.0               2.5   \n",
       "1   540.0                 0.0      0.0  162.0               2.5   \n",
       "2   332.5               142.5      0.0  228.0               0.0   \n",
       "3   332.5               142.5      0.0  228.0               0.0   \n",
       "4   198.6               132.4      0.0  192.0               0.0   \n",
       "\n",
       "   Coarse Aggregate  Fine Aggregate  Age  Strength  \n",
       "0            1040.0           676.0   28     79.99  \n",
       "1            1055.0           676.0   28     61.89  \n",
       "2             932.0           594.0  270     40.27  \n",
       "3             932.0           594.0  365     41.05  \n",
       "4             978.4           825.5  360     44.30  "
      ]
     },
     "execution_count": 48,
     "metadata": {},
     "output_type": "execute_result"
    }
   ],
   "source": [
    "df=pd.read_csv(\"concrete_data.csv\")\n",
    "df.head()"
   ]
  },
  {
   "cell_type": "markdown",
   "id": "77011a99",
   "metadata": {},
   "source": [
    "Let's check how many data points we have."
   ]
  },
  {
   "cell_type": "code",
   "execution_count": 49,
   "id": "dc094491",
   "metadata": {},
   "outputs": [
    {
     "data": {
      "text/plain": [
       "(1030, 9)"
      ]
     },
     "execution_count": 49,
     "metadata": {},
     "output_type": "execute_result"
    }
   ],
   "source": [
    "df.shape"
   ]
  },
  {
   "cell_type": "markdown",
   "id": "c1a72e36",
   "metadata": {},
   "source": [
    "So, there are approximately 1000 samples to train our model on. \n",
    "Because of the few samples, we have to be careful not to overfit the training data.\n",
    "\n",
    "Let's check the dataset for any missing values."
   ]
  },
  {
   "cell_type": "code",
   "execution_count": 50,
   "id": "001eeb72",
   "metadata": {},
   "outputs": [
    {
     "data": {
      "text/html": [
       "<div>\n",
       "<style scoped>\n",
       "    .dataframe tbody tr th:only-of-type {\n",
       "        vertical-align: middle;\n",
       "    }\n",
       "\n",
       "    .dataframe tbody tr th {\n",
       "        vertical-align: top;\n",
       "    }\n",
       "\n",
       "    .dataframe thead th {\n",
       "        text-align: right;\n",
       "    }\n",
       "</style>\n",
       "<table border=\"1\" class=\"dataframe\">\n",
       "  <thead>\n",
       "    <tr style=\"text-align: right;\">\n",
       "      <th></th>\n",
       "      <th>Cement</th>\n",
       "      <th>Blast Furnace Slag</th>\n",
       "      <th>Fly Ash</th>\n",
       "      <th>Water</th>\n",
       "      <th>Superplasticizer</th>\n",
       "      <th>Coarse Aggregate</th>\n",
       "      <th>Fine Aggregate</th>\n",
       "      <th>Age</th>\n",
       "      <th>Strength</th>\n",
       "    </tr>\n",
       "  </thead>\n",
       "  <tbody>\n",
       "    <tr>\n",
       "      <th>count</th>\n",
       "      <td>1030.000000</td>\n",
       "      <td>1030.000000</td>\n",
       "      <td>1030.000000</td>\n",
       "      <td>1030.000000</td>\n",
       "      <td>1030.000000</td>\n",
       "      <td>1030.000000</td>\n",
       "      <td>1030.000000</td>\n",
       "      <td>1030.000000</td>\n",
       "      <td>1030.000000</td>\n",
       "    </tr>\n",
       "    <tr>\n",
       "      <th>mean</th>\n",
       "      <td>281.167864</td>\n",
       "      <td>73.895825</td>\n",
       "      <td>54.188350</td>\n",
       "      <td>181.567282</td>\n",
       "      <td>6.204660</td>\n",
       "      <td>972.918932</td>\n",
       "      <td>773.580485</td>\n",
       "      <td>45.662136</td>\n",
       "      <td>35.817961</td>\n",
       "    </tr>\n",
       "    <tr>\n",
       "      <th>std</th>\n",
       "      <td>104.506364</td>\n",
       "      <td>86.279342</td>\n",
       "      <td>63.997004</td>\n",
       "      <td>21.354219</td>\n",
       "      <td>5.973841</td>\n",
       "      <td>77.753954</td>\n",
       "      <td>80.175980</td>\n",
       "      <td>63.169912</td>\n",
       "      <td>16.705742</td>\n",
       "    </tr>\n",
       "    <tr>\n",
       "      <th>min</th>\n",
       "      <td>102.000000</td>\n",
       "      <td>0.000000</td>\n",
       "      <td>0.000000</td>\n",
       "      <td>121.800000</td>\n",
       "      <td>0.000000</td>\n",
       "      <td>801.000000</td>\n",
       "      <td>594.000000</td>\n",
       "      <td>1.000000</td>\n",
       "      <td>2.330000</td>\n",
       "    </tr>\n",
       "    <tr>\n",
       "      <th>25%</th>\n",
       "      <td>192.375000</td>\n",
       "      <td>0.000000</td>\n",
       "      <td>0.000000</td>\n",
       "      <td>164.900000</td>\n",
       "      <td>0.000000</td>\n",
       "      <td>932.000000</td>\n",
       "      <td>730.950000</td>\n",
       "      <td>7.000000</td>\n",
       "      <td>23.710000</td>\n",
       "    </tr>\n",
       "    <tr>\n",
       "      <th>50%</th>\n",
       "      <td>272.900000</td>\n",
       "      <td>22.000000</td>\n",
       "      <td>0.000000</td>\n",
       "      <td>185.000000</td>\n",
       "      <td>6.400000</td>\n",
       "      <td>968.000000</td>\n",
       "      <td>779.500000</td>\n",
       "      <td>28.000000</td>\n",
       "      <td>34.445000</td>\n",
       "    </tr>\n",
       "    <tr>\n",
       "      <th>75%</th>\n",
       "      <td>350.000000</td>\n",
       "      <td>142.950000</td>\n",
       "      <td>118.300000</td>\n",
       "      <td>192.000000</td>\n",
       "      <td>10.200000</td>\n",
       "      <td>1029.400000</td>\n",
       "      <td>824.000000</td>\n",
       "      <td>56.000000</td>\n",
       "      <td>46.135000</td>\n",
       "    </tr>\n",
       "    <tr>\n",
       "      <th>max</th>\n",
       "      <td>540.000000</td>\n",
       "      <td>359.400000</td>\n",
       "      <td>200.100000</td>\n",
       "      <td>247.000000</td>\n",
       "      <td>32.200000</td>\n",
       "      <td>1145.000000</td>\n",
       "      <td>992.600000</td>\n",
       "      <td>365.000000</td>\n",
       "      <td>82.600000</td>\n",
       "    </tr>\n",
       "  </tbody>\n",
       "</table>\n",
       "</div>"
      ],
      "text/plain": [
       "            Cement  Blast Furnace Slag      Fly Ash        Water  \\\n",
       "count  1030.000000         1030.000000  1030.000000  1030.000000   \n",
       "mean    281.167864           73.895825    54.188350   181.567282   \n",
       "std     104.506364           86.279342    63.997004    21.354219   \n",
       "min     102.000000            0.000000     0.000000   121.800000   \n",
       "25%     192.375000            0.000000     0.000000   164.900000   \n",
       "50%     272.900000           22.000000     0.000000   185.000000   \n",
       "75%     350.000000          142.950000   118.300000   192.000000   \n",
       "max     540.000000          359.400000   200.100000   247.000000   \n",
       "\n",
       "       Superplasticizer  Coarse Aggregate  Fine Aggregate          Age  \\\n",
       "count       1030.000000       1030.000000     1030.000000  1030.000000   \n",
       "mean           6.204660        972.918932      773.580485    45.662136   \n",
       "std            5.973841         77.753954       80.175980    63.169912   \n",
       "min            0.000000        801.000000      594.000000     1.000000   \n",
       "25%            0.000000        932.000000      730.950000     7.000000   \n",
       "50%            6.400000        968.000000      779.500000    28.000000   \n",
       "75%           10.200000       1029.400000      824.000000    56.000000   \n",
       "max           32.200000       1145.000000      992.600000   365.000000   \n",
       "\n",
       "          Strength  \n",
       "count  1030.000000  \n",
       "mean     35.817961  \n",
       "std      16.705742  \n",
       "min       2.330000  \n",
       "25%      23.710000  \n",
       "50%      34.445000  \n",
       "75%      46.135000  \n",
       "max      82.600000  "
      ]
     },
     "execution_count": 50,
     "metadata": {},
     "output_type": "execute_result"
    }
   ],
   "source": [
    "df.describe()"
   ]
  },
  {
   "cell_type": "code",
   "execution_count": 51,
   "id": "d253664b",
   "metadata": {},
   "outputs": [
    {
     "data": {
      "text/plain": [
       "Cement                0\n",
       "Blast Furnace Slag    0\n",
       "Fly Ash               0\n",
       "Water                 0\n",
       "Superplasticizer      0\n",
       "Coarse Aggregate      0\n",
       "Fine Aggregate        0\n",
       "Age                   0\n",
       "Strength              0\n",
       "dtype: int64"
      ]
     },
     "execution_count": 51,
     "metadata": {},
     "output_type": "execute_result"
    }
   ],
   "source": [
    "df.isnull().sum()"
   ]
  },
  {
   "cell_type": "markdown",
   "id": "78a60044",
   "metadata": {},
   "source": [
    "The data is ready to be used to build our model."
   ]
  },
  {
   "cell_type": "markdown",
   "id": "d705a11d",
   "metadata": {},
   "source": [
    "### Split data into predictors and target"
   ]
  },
  {
   "cell_type": "markdown",
   "id": "44cc0109",
   "metadata": {},
   "source": [
    "The target variable in this problem is the concrete sample strength. Therefore, our predictors will be all the other columns."
   ]
  },
  {
   "cell_type": "code",
   "execution_count": 52,
   "id": "88519411",
   "metadata": {},
   "outputs": [],
   "source": [
    "concrete_data_columns = df.columns\n",
    "predictors = df[concrete_data_columns[concrete_data_columns != 'Strength']] # all columns except Strength\n",
    "target = df['Strength']"
   ]
  },
  {
   "cell_type": "markdown",
   "id": "a586efcb",
   "metadata": {},
   "source": [
    "Let's do a check of the predictors and the target dataframes."
   ]
  },
  {
   "cell_type": "code",
   "execution_count": 53,
   "id": "7855414e",
   "metadata": {},
   "outputs": [
    {
     "data": {
      "text/html": [
       "<div>\n",
       "<style scoped>\n",
       "    .dataframe tbody tr th:only-of-type {\n",
       "        vertical-align: middle;\n",
       "    }\n",
       "\n",
       "    .dataframe tbody tr th {\n",
       "        vertical-align: top;\n",
       "    }\n",
       "\n",
       "    .dataframe thead th {\n",
       "        text-align: right;\n",
       "    }\n",
       "</style>\n",
       "<table border=\"1\" class=\"dataframe\">\n",
       "  <thead>\n",
       "    <tr style=\"text-align: right;\">\n",
       "      <th></th>\n",
       "      <th>Cement</th>\n",
       "      <th>Blast Furnace Slag</th>\n",
       "      <th>Fly Ash</th>\n",
       "      <th>Water</th>\n",
       "      <th>Superplasticizer</th>\n",
       "      <th>Coarse Aggregate</th>\n",
       "      <th>Fine Aggregate</th>\n",
       "      <th>Age</th>\n",
       "    </tr>\n",
       "  </thead>\n",
       "  <tbody>\n",
       "    <tr>\n",
       "      <th>0</th>\n",
       "      <td>540.0</td>\n",
       "      <td>0.0</td>\n",
       "      <td>0.0</td>\n",
       "      <td>162.0</td>\n",
       "      <td>2.5</td>\n",
       "      <td>1040.0</td>\n",
       "      <td>676.0</td>\n",
       "      <td>28</td>\n",
       "    </tr>\n",
       "    <tr>\n",
       "      <th>1</th>\n",
       "      <td>540.0</td>\n",
       "      <td>0.0</td>\n",
       "      <td>0.0</td>\n",
       "      <td>162.0</td>\n",
       "      <td>2.5</td>\n",
       "      <td>1055.0</td>\n",
       "      <td>676.0</td>\n",
       "      <td>28</td>\n",
       "    </tr>\n",
       "    <tr>\n",
       "      <th>2</th>\n",
       "      <td>332.5</td>\n",
       "      <td>142.5</td>\n",
       "      <td>0.0</td>\n",
       "      <td>228.0</td>\n",
       "      <td>0.0</td>\n",
       "      <td>932.0</td>\n",
       "      <td>594.0</td>\n",
       "      <td>270</td>\n",
       "    </tr>\n",
       "    <tr>\n",
       "      <th>3</th>\n",
       "      <td>332.5</td>\n",
       "      <td>142.5</td>\n",
       "      <td>0.0</td>\n",
       "      <td>228.0</td>\n",
       "      <td>0.0</td>\n",
       "      <td>932.0</td>\n",
       "      <td>594.0</td>\n",
       "      <td>365</td>\n",
       "    </tr>\n",
       "    <tr>\n",
       "      <th>4</th>\n",
       "      <td>198.6</td>\n",
       "      <td>132.4</td>\n",
       "      <td>0.0</td>\n",
       "      <td>192.0</td>\n",
       "      <td>0.0</td>\n",
       "      <td>978.4</td>\n",
       "      <td>825.5</td>\n",
       "      <td>360</td>\n",
       "    </tr>\n",
       "  </tbody>\n",
       "</table>\n",
       "</div>"
      ],
      "text/plain": [
       "   Cement  Blast Furnace Slag  Fly Ash  Water  Superplasticizer  \\\n",
       "0   540.0                 0.0      0.0  162.0               2.5   \n",
       "1   540.0                 0.0      0.0  162.0               2.5   \n",
       "2   332.5               142.5      0.0  228.0               0.0   \n",
       "3   332.5               142.5      0.0  228.0               0.0   \n",
       "4   198.6               132.4      0.0  192.0               0.0   \n",
       "\n",
       "   Coarse Aggregate  Fine Aggregate  Age  \n",
       "0            1040.0           676.0   28  \n",
       "1            1055.0           676.0   28  \n",
       "2             932.0           594.0  270  \n",
       "3             932.0           594.0  365  \n",
       "4             978.4           825.5  360  "
      ]
     },
     "execution_count": 53,
     "metadata": {},
     "output_type": "execute_result"
    }
   ],
   "source": [
    "predictors.head()"
   ]
  },
  {
   "cell_type": "code",
   "execution_count": 54,
   "id": "e3abd2a0",
   "metadata": {},
   "outputs": [
    {
     "data": {
      "text/plain": [
       "0    79.99\n",
       "1    61.89\n",
       "2    40.27\n",
       "3    41.05\n",
       "4    44.30\n",
       "Name: Strength, dtype: float64"
      ]
     },
     "execution_count": 54,
     "metadata": {},
     "output_type": "execute_result"
    }
   ],
   "source": [
    "target.head()"
   ]
  },
  {
   "cell_type": "markdown",
   "id": "be343fe4",
   "metadata": {},
   "source": [
    "Recall that one way to normalize the data is by subtracting the mean from the individual predictors and dividing by the standard deviation"
   ]
  },
  {
   "cell_type": "code",
   "execution_count": 55,
   "id": "a5c82db5",
   "metadata": {},
   "outputs": [
    {
     "data": {
      "text/plain": [
       "8"
      ]
     },
     "execution_count": 55,
     "metadata": {},
     "output_type": "execute_result"
    }
   ],
   "source": [
    "n_cols=predictors.shape[1]\n",
    "n_cols"
   ]
  },
  {
   "cell_type": "markdown",
   "id": "43804eaf",
   "metadata": {},
   "source": [
    "### Import Keras"
   ]
  },
  {
   "cell_type": "code",
   "execution_count": 56,
   "id": "f42164bf",
   "metadata": {},
   "outputs": [],
   "source": [
    "import keras"
   ]
  },
  {
   "cell_type": "code",
   "execution_count": 57,
   "id": "0b256cb1",
   "metadata": {},
   "outputs": [],
   "source": [
    "from keras.models import Sequential\n",
    "from keras.layers import Dense"
   ]
  },
  {
   "cell_type": "code",
   "execution_count": 58,
   "id": "3f28bb76",
   "metadata": {},
   "outputs": [],
   "source": [
    "def regression_model():\n",
    "    # create model\n",
    "    model = Sequential()\n",
    "    model.add(Dense(10, activation='relu', input_shape=(n_cols,)))\n",
    "    model.add(Dense(1))\n",
    "    \n",
    "    # compile model\n",
    "    model.compile(optimizer='adam', loss='mean_squared_error')\n",
    "    return model"
   ]
  },
  {
   "cell_type": "markdown",
   "id": "a07c46a9",
   "metadata": {},
   "source": [
    "The regression_model function creates a model that has one hidden layer with 10 neurons and a ReLU activation function. It uses the adam optimizer and the mean squared error as the loss function."
   ]
  },
  {
   "cell_type": "code",
   "execution_count": 59,
   "id": "cfab360f",
   "metadata": {},
   "outputs": [],
   "source": [
    "from sklearn.model_selection import train_test_split"
   ]
  },
  {
   "cell_type": "markdown",
   "id": "68fd395e",
   "metadata": {},
   "source": [
    "Randomly splitting the data into a training and test sets by holding 30% of the data for testing"
   ]
  },
  {
   "cell_type": "code",
   "execution_count": 60,
   "id": "184cc8f4",
   "metadata": {},
   "outputs": [],
   "source": [
    "X_train, X_test, y_train, y_test = train_test_split(predictors, target, test_size=0.3, random_state=42)"
   ]
  },
  {
   "cell_type": "markdown",
   "id": "fb405589",
   "metadata": {},
   "source": [
    "### Train the Model"
   ]
  },
  {
   "cell_type": "markdown",
   "id": "e8abd1fa",
   "metadata": {},
   "source": [
    "Let's create our model."
   ]
  },
  {
   "cell_type": "code",
   "execution_count": 61,
   "id": "8951ce35",
   "metadata": {},
   "outputs": [],
   "source": [
    "# build the model\n",
    "model = regression_model()"
   ]
  },
  {
   "cell_type": "markdown",
   "id": "abb78808",
   "metadata": {},
   "source": [
    "Train the model on the training data using 50 epochs."
   ]
  },
  {
   "cell_type": "code",
   "execution_count": 62,
   "id": "211587d9",
   "metadata": {},
   "outputs": [
    {
     "name": "stdout",
     "output_type": "stream",
     "text": [
      "Epoch 1/50\n",
      "23/23 [==============================] - 0s 824us/step - loss: 19414.0645\n",
      "Epoch 2/50\n",
      "23/23 [==============================] - 0s 715us/step - loss: 7725.9146\n",
      "Epoch 3/50\n",
      "23/23 [==============================] - 0s 745us/step - loss: 5022.1963\n",
      "Epoch 4/50\n",
      "23/23 [==============================] - 0s 724us/step - loss: 4036.6816\n",
      "Epoch 5/50\n",
      "23/23 [==============================] - 0s 764us/step - loss: 3210.7761\n",
      "Epoch 6/50\n",
      "23/23 [==============================] - 0s 846us/step - loss: 2616.4370\n",
      "Epoch 7/50\n",
      "23/23 [==============================] - 0s 761us/step - loss: 2131.3640\n",
      "Epoch 8/50\n",
      "23/23 [==============================] - 0s 743us/step - loss: 1705.5974\n",
      "Epoch 9/50\n",
      "23/23 [==============================] - 0s 713us/step - loss: 1349.0486\n",
      "Epoch 10/50\n",
      "23/23 [==============================] - 0s 712us/step - loss: 1062.3718\n",
      "Epoch 11/50\n",
      "23/23 [==============================] - 0s 757us/step - loss: 837.3237\n",
      "Epoch 12/50\n",
      "23/23 [==============================] - 0s 752us/step - loss: 669.9548\n",
      "Epoch 13/50\n",
      "23/23 [==============================] - 0s 829us/step - loss: 552.9901\n",
      "Epoch 14/50\n",
      "23/23 [==============================] - 0s 744us/step - loss: 462.3030\n",
      "Epoch 15/50\n",
      "23/23 [==============================] - 0s 758us/step - loss: 403.2501\n",
      "Epoch 16/50\n",
      "23/23 [==============================] - 0s 758us/step - loss: 358.7785\n",
      "Epoch 17/50\n",
      "23/23 [==============================] - 0s 803us/step - loss: 328.8964\n",
      "Epoch 18/50\n",
      "23/23 [==============================] - 0s 804us/step - loss: 308.4254\n",
      "Epoch 19/50\n",
      "23/23 [==============================] - 0s 825us/step - loss: 292.2372\n",
      "Epoch 20/50\n",
      "23/23 [==============================] - 0s 757us/step - loss: 279.1554\n",
      "Epoch 21/50\n",
      "23/23 [==============================] - 0s 757us/step - loss: 269.2712\n",
      "Epoch 22/50\n",
      "23/23 [==============================] - 0s 759us/step - loss: 263.3073\n",
      "Epoch 23/50\n",
      "23/23 [==============================] - 0s 805us/step - loss: 253.7013\n",
      "Epoch 24/50\n",
      "23/23 [==============================] - 0s 757us/step - loss: 247.2598\n",
      "Epoch 25/50\n",
      "23/23 [==============================] - 0s 756us/step - loss: 241.4148\n",
      "Epoch 26/50\n",
      "23/23 [==============================] - 0s 758us/step - loss: 235.3255\n",
      "Epoch 27/50\n",
      "23/23 [==============================] - 0s 712us/step - loss: 229.6827\n",
      "Epoch 28/50\n",
      "23/23 [==============================] - 0s 1ms/step - loss: 224.5629\n",
      "Epoch 29/50\n",
      "23/23 [==============================] - 0s 842us/step - loss: 220.3835\n",
      "Epoch 30/50\n",
      "23/23 [==============================] - 0s 718us/step - loss: 215.3340\n",
      "Epoch 31/50\n",
      "23/23 [==============================] - 0s 754us/step - loss: 211.7089\n",
      "Epoch 32/50\n",
      "23/23 [==============================] - 0s 758us/step - loss: 206.2373\n",
      "Epoch 33/50\n",
      "23/23 [==============================] - 0s 801us/step - loss: 202.6395\n",
      "Epoch 34/50\n",
      "23/23 [==============================] - 0s 694us/step - loss: 198.4253\n",
      "Epoch 35/50\n",
      "23/23 [==============================] - 0s 758us/step - loss: 195.6221\n",
      "Epoch 36/50\n",
      "23/23 [==============================] - 0s 894us/step - loss: 190.9177\n",
      "Epoch 37/50\n",
      "23/23 [==============================] - 0s 756us/step - loss: 188.0031\n",
      "Epoch 38/50\n",
      "23/23 [==============================] - 0s 769us/step - loss: 184.8217\n",
      "Epoch 39/50\n",
      "23/23 [==============================] - 0s 710us/step - loss: 183.8897\n",
      "Epoch 40/50\n",
      "23/23 [==============================] - 0s 760us/step - loss: 181.5492\n",
      "Epoch 41/50\n",
      "23/23 [==============================] - 0s 770us/step - loss: 179.7004\n",
      "Epoch 42/50\n",
      "23/23 [==============================] - 0s 798us/step - loss: 175.7793\n",
      "Epoch 43/50\n",
      "23/23 [==============================] - 0s 845us/step - loss: 172.3103\n",
      "Epoch 44/50\n",
      "23/23 [==============================] - 0s 802us/step - loss: 170.3608\n",
      "Epoch 45/50\n",
      "23/23 [==============================] - 0s 760us/step - loss: 167.6487\n",
      "Epoch 46/50\n",
      "23/23 [==============================] - 0s 712us/step - loss: 165.8819\n",
      "Epoch 47/50\n",
      "23/23 [==============================] - 0s 850us/step - loss: 163.7348\n",
      "Epoch 48/50\n",
      "23/23 [==============================] - 0s 782us/step - loss: 163.9970\n",
      "Epoch 49/50\n",
      "23/23 [==============================] - 0s 757us/step - loss: 160.8994\n",
      "Epoch 50/50\n",
      "23/23 [==============================] - 0s 851us/step - loss: 158.6909\n"
     ]
    },
    {
     "data": {
      "text/plain": [
       "<keras.callbacks.History at 0x24f9f7b7b80>"
      ]
     },
     "execution_count": 62,
     "metadata": {},
     "output_type": "execute_result"
    }
   ],
   "source": [
    "epochs = 50\n",
    "model.fit(X_train, y_train, epochs=epochs, verbose=1)"
   ]
  },
  {
   "cell_type": "markdown",
   "id": "08f63fde",
   "metadata": {},
   "source": [
    "Evaluate the model on the test data "
   ]
  },
  {
   "cell_type": "code",
   "execution_count": 63,
   "id": "4c564374",
   "metadata": {},
   "outputs": [
    {
     "name": "stdout",
     "output_type": "stream",
     "text": [
      "10/10 [==============================] - 0s 1ms/step - loss: 167.0600\n",
      "10/10 [==============================] - 0s 779us/step\n"
     ]
    },
    {
     "data": {
      "text/plain": [
       "167.0599822998047"
      ]
     },
     "execution_count": 63,
     "metadata": {},
     "output_type": "execute_result"
    }
   ],
   "source": [
    "loss_val = model.evaluate(X_test, y_test)\n",
    "y_pred = model.predict(X_test)\n",
    "loss_val"
   ]
  },
  {
   "cell_type": "code",
   "execution_count": 64,
   "id": "d509092d",
   "metadata": {},
   "outputs": [],
   "source": [
    "from sklearn.metrics import mean_squared_error"
   ]
  },
  {
   "cell_type": "markdown",
   "id": "0ff571ed",
   "metadata": {},
   "source": [
    "Compute the mean_squared_error between the predict concrete strength and the actual concrete strength"
   ]
  },
  {
   "cell_type": "code",
   "execution_count": 65,
   "id": "d3d248a0",
   "metadata": {},
   "outputs": [
    {
     "name": "stdout",
     "output_type": "stream",
     "text": [
      "167.05998933351555 0.0\n"
     ]
    }
   ],
   "source": [
    "mean_square_error = mean_squared_error(y_test, y_pred)\n",
    "mean = np.mean(mean_square_error)\n",
    "standard_deviation = np.std(mean_square_error)\n",
    "print(mean, standard_deviation)"
   ]
  },
  {
   "cell_type": "markdown",
   "id": "ecac6aa8",
   "metadata": {},
   "source": [
    "Create a list of 50 mean squared errors  and report mean and the standard deviation of the mean squared errors"
   ]
  },
  {
   "cell_type": "code",
   "execution_count": 66,
   "id": "2be770d4",
   "metadata": {},
   "outputs": [
    {
     "name": "stdout",
     "output_type": "stream",
     "text": [
      "MSE 1: 104.18278503417969\n",
      "10/10 [==============================] - 0s 952us/step\n",
      "MSE 2: 125.83443450927734\n",
      "10/10 [==============================] - 0s 790us/step\n",
      "MSE 3: 109.19379425048828\n",
      "10/10 [==============================] - 0s 889us/step\n",
      "MSE 4: 123.51887512207031\n",
      "10/10 [==============================] - 0s 997us/step\n",
      "MSE 5: 120.53270721435547\n",
      "10/10 [==============================] - 0s 790us/step\n",
      "MSE 6: 111.06792449951172\n",
      "10/10 [==============================] - 0s 819us/step\n",
      "MSE 7: 132.98875427246094\n",
      "10/10 [==============================] - 0s 1ms/step\n",
      "MSE 8: 99.1066665649414\n",
      "10/10 [==============================] - 0s 804us/step\n",
      "MSE 9: 120.43707275390625\n",
      "10/10 [==============================] - 0s 977us/step\n",
      "MSE 10: 113.0582046508789\n",
      "10/10 [==============================] - 0s 819us/step\n",
      "MSE 11: 105.82052612304688\n",
      "10/10 [==============================] - 0s 852us/step\n",
      "MSE 12: 105.24991607666016\n",
      "10/10 [==============================] - 0s 949us/step\n",
      "MSE 13: 117.01795196533203\n",
      "10/10 [==============================] - 0s 842us/step\n",
      "MSE 14: 118.87090301513672\n",
      "10/10 [==============================] - 0s 1ms/step\n",
      "MSE 15: 110.87650299072266\n",
      "10/10 [==============================] - 0s 1ms/step\n",
      "MSE 16: 106.66321563720703\n",
      "10/10 [==============================] - 0s 776us/step\n",
      "MSE 17: 108.1478042602539\n",
      "10/10 [==============================] - 0s 1ms/step\n",
      "MSE 18: 95.4780502319336\n",
      "10/10 [==============================] - 0s 1ms/step\n",
      "MSE 19: 96.83822631835938\n",
      "10/10 [==============================] - 0s 1ms/step\n",
      "MSE 20: 114.2021255493164\n",
      "10/10 [==============================] - 0s 1ms/step\n",
      "MSE 21: 96.7635269165039\n",
      "10/10 [==============================] - 0s 845us/step\n",
      "MSE 22: 103.35778045654297\n",
      "10/10 [==============================] - 0s 942us/step\n",
      "MSE 23: 107.55313110351562\n",
      "10/10 [==============================] - 0s 784us/step\n",
      "MSE 24: 104.83960723876953\n",
      "10/10 [==============================] - 0s 947us/step\n",
      "MSE 25: 109.06407928466797\n",
      "10/10 [==============================] - 0s 863us/step\n",
      "MSE 26: 98.495849609375\n",
      "10/10 [==============================] - 0s 788us/step\n",
      "MSE 27: 121.18873596191406\n",
      "10/10 [==============================] - 0s 710us/step\n",
      "MSE 28: 111.47669982910156\n",
      "10/10 [==============================] - 0s 920us/step\n",
      "MSE 29: 110.56735229492188\n",
      "10/10 [==============================] - 0s 826us/step\n",
      "MSE 30: 117.60310363769531\n",
      "10/10 [==============================] - 0s 938us/step\n",
      "MSE 31: 132.60797119140625\n",
      "10/10 [==============================] - 0s 969us/step\n",
      "MSE 32: 112.56587219238281\n",
      "10/10 [==============================] - 0s 973us/step\n",
      "MSE 33: 103.37105560302734\n",
      "10/10 [==============================] - 0s 800us/step\n",
      "MSE 34: 112.4872817993164\n",
      "10/10 [==============================] - 0s 1ms/step\n",
      "MSE 35: 115.82506561279297\n",
      "10/10 [==============================] - 0s 1ms/step\n",
      "MSE 36: 126.37158966064453\n",
      "10/10 [==============================] - 0s 863us/step\n",
      "MSE 37: 122.94230651855469\n",
      "10/10 [==============================] - 0s 890us/step\n",
      "MSE 38: 116.79269409179688\n",
      "10/10 [==============================] - 0s 889us/step\n",
      "MSE 39: 112.50338745117188\n",
      "10/10 [==============================] - 0s 887us/step\n",
      "MSE 40: 121.9034423828125\n",
      "10/10 [==============================] - 0s 889us/step\n",
      "MSE 41: 114.02503967285156\n",
      "10/10 [==============================] - 0s 668us/step\n",
      "MSE 42: 107.59105682373047\n",
      "10/10 [==============================] - 0s 1ms/step\n",
      "MSE 43: 111.16583251953125\n",
      "10/10 [==============================] - 0s 925us/step\n",
      "MSE 44: 109.3603744506836\n",
      "10/10 [==============================] - 0s 894us/step\n",
      "MSE 45: 110.09278869628906\n",
      "10/10 [==============================] - 0s 1ms/step\n",
      "MSE 46: 106.56490325927734\n",
      "10/10 [==============================] - 0s 889us/step\n",
      "MSE 47: 86.53712463378906\n",
      "10/10 [==============================] - 0s 964us/step\n",
      "MSE 48: 87.80540466308594\n",
      "10/10 [==============================] - 0s 908us/step\n",
      "MSE 49: 73.83544158935547\n",
      "10/10 [==============================] - 0s 815us/step\n",
      "MSE 50: 73.27413940429688\n",
      "10/10 [==============================] - 0s 1ms/step\n",
      "\n",
      "\n",
      "Below is the mean and standard deviation of 50 mean squared errors without normalized data. Total number of epochs for each training is: 50\n",
      "\n",
      "Mean: 109.55238055004708\n",
      "Standard Deviation: 12.21307971578228\n"
     ]
    }
   ],
   "source": [
    "total_mean_squared_errors = 50\n",
    "epochs = 50\n",
    "mean_squared_errors = []\n",
    "for i in range(0, total_mean_squared_errors):\n",
    "    X_train, X_test, y_train, y_test = train_test_split(predictors, target, test_size=0.3, random_state=i)\n",
    "    model.fit(X_train, y_train, epochs=epochs, verbose=0)\n",
    "    MSE = model.evaluate(X_test, y_test, verbose=0)\n",
    "    print(\"MSE \"+str(i+1)+\": \"+str(MSE))\n",
    "    y_pred = model.predict(X_test)\n",
    "    mean_square_error = mean_squared_error(y_test, y_pred)\n",
    "    mean_squared_errors.append(mean_square_error)\n",
    "\n",
    "mean_squared_errors = np.array(mean_squared_errors)\n",
    "mean = np.mean(mean_squared_errors)\n",
    "standard_deviation = np.std(mean_squared_errors)\n",
    "\n",
    "print('\\n')\n",
    "print(\"Below is the mean and standard deviation of \" +str(total_mean_squared_errors) + \" mean squared errors without normalized data. Total number of epochs for each training is: \" +str(epochs) + \"\\n\")\n",
    "print(\"Mean: \"+str(mean))\n",
    "print(\"Standard Deviation: \"+str(standard_deviation))"
   ]
  },
  {
   "cell_type": "code",
   "execution_count": null,
   "id": "6410b87f",
   "metadata": {},
   "outputs": [],
   "source": []
  }
 ],
 "metadata": {
  "kernelspec": {
   "display_name": "Python 3 (ipykernel)",
   "language": "python",
   "name": "python3"
  },
  "language_info": {
   "codemirror_mode": {
    "name": "ipython",
    "version": 3
   },
   "file_extension": ".py",
   "mimetype": "text/x-python",
   "name": "python",
   "nbconvert_exporter": "python",
   "pygments_lexer": "ipython3",
   "version": "3.9.13"
  }
 },
 "nbformat": 4,
 "nbformat_minor": 5
}
