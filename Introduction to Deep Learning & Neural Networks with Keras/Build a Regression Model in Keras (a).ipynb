{
 "cells": [
  {
   "cell_type": "markdown",
   "id": "5340fc78",
   "metadata": {},
   "source": [
    "## Build a Regression Model in Keras (A)"
   ]
  },
  {
   "cell_type": "code",
   "execution_count": 1,
   "id": "7d7c823c",
   "metadata": {},
   "outputs": [],
   "source": [
    "import pandas as pd\n",
    "import numpy as np"
   ]
  },
  {
   "cell_type": "markdown",
   "id": "b0949090",
   "metadata": {},
   "source": [
    "The dataset is about the compressive strength of different samples of concrete based on the volumes of the different ingredients that were used to make them. Ingredients include:\n",
    "\n",
    "1. Cement\n",
    "\n",
    "2. Blast Furnace Slag\n",
    "\n",
    "3. Fly Ash\n",
    "\n",
    "4. Water\n",
    "\n",
    "5. Superplasticizer\n",
    "\n",
    "6. Coarse Aggregate\n",
    "\n",
    "7. Fine Aggregate\n",
    "\n",
    "Let's read the dataset into a pandas dataframe."
   ]
  },
  {
   "cell_type": "code",
   "execution_count": 2,
   "id": "9db8f7ae",
   "metadata": {},
   "outputs": [
    {
     "data": {
      "text/html": [
       "<div>\n",
       "<style scoped>\n",
       "    .dataframe tbody tr th:only-of-type {\n",
       "        vertical-align: middle;\n",
       "    }\n",
       "\n",
       "    .dataframe tbody tr th {\n",
       "        vertical-align: top;\n",
       "    }\n",
       "\n",
       "    .dataframe thead th {\n",
       "        text-align: right;\n",
       "    }\n",
       "</style>\n",
       "<table border=\"1\" class=\"dataframe\">\n",
       "  <thead>\n",
       "    <tr style=\"text-align: right;\">\n",
       "      <th></th>\n",
       "      <th>Cement</th>\n",
       "      <th>Blast Furnace Slag</th>\n",
       "      <th>Fly Ash</th>\n",
       "      <th>Water</th>\n",
       "      <th>Superplasticizer</th>\n",
       "      <th>Coarse Aggregate</th>\n",
       "      <th>Fine Aggregate</th>\n",
       "      <th>Age</th>\n",
       "      <th>Strength</th>\n",
       "    </tr>\n",
       "  </thead>\n",
       "  <tbody>\n",
       "    <tr>\n",
       "      <th>0</th>\n",
       "      <td>540.0</td>\n",
       "      <td>0.0</td>\n",
       "      <td>0.0</td>\n",
       "      <td>162.0</td>\n",
       "      <td>2.5</td>\n",
       "      <td>1040.0</td>\n",
       "      <td>676.0</td>\n",
       "      <td>28</td>\n",
       "      <td>79.99</td>\n",
       "    </tr>\n",
       "    <tr>\n",
       "      <th>1</th>\n",
       "      <td>540.0</td>\n",
       "      <td>0.0</td>\n",
       "      <td>0.0</td>\n",
       "      <td>162.0</td>\n",
       "      <td>2.5</td>\n",
       "      <td>1055.0</td>\n",
       "      <td>676.0</td>\n",
       "      <td>28</td>\n",
       "      <td>61.89</td>\n",
       "    </tr>\n",
       "    <tr>\n",
       "      <th>2</th>\n",
       "      <td>332.5</td>\n",
       "      <td>142.5</td>\n",
       "      <td>0.0</td>\n",
       "      <td>228.0</td>\n",
       "      <td>0.0</td>\n",
       "      <td>932.0</td>\n",
       "      <td>594.0</td>\n",
       "      <td>270</td>\n",
       "      <td>40.27</td>\n",
       "    </tr>\n",
       "    <tr>\n",
       "      <th>3</th>\n",
       "      <td>332.5</td>\n",
       "      <td>142.5</td>\n",
       "      <td>0.0</td>\n",
       "      <td>228.0</td>\n",
       "      <td>0.0</td>\n",
       "      <td>932.0</td>\n",
       "      <td>594.0</td>\n",
       "      <td>365</td>\n",
       "      <td>41.05</td>\n",
       "    </tr>\n",
       "    <tr>\n",
       "      <th>4</th>\n",
       "      <td>198.6</td>\n",
       "      <td>132.4</td>\n",
       "      <td>0.0</td>\n",
       "      <td>192.0</td>\n",
       "      <td>0.0</td>\n",
       "      <td>978.4</td>\n",
       "      <td>825.5</td>\n",
       "      <td>360</td>\n",
       "      <td>44.30</td>\n",
       "    </tr>\n",
       "  </tbody>\n",
       "</table>\n",
       "</div>"
      ],
      "text/plain": [
       "   Cement  Blast Furnace Slag  Fly Ash  Water  Superplasticizer  \\\n",
       "0   540.0                 0.0      0.0  162.0               2.5   \n",
       "1   540.0                 0.0      0.0  162.0               2.5   \n",
       "2   332.5               142.5      0.0  228.0               0.0   \n",
       "3   332.5               142.5      0.0  228.0               0.0   \n",
       "4   198.6               132.4      0.0  192.0               0.0   \n",
       "\n",
       "   Coarse Aggregate  Fine Aggregate  Age  Strength  \n",
       "0            1040.0           676.0   28     79.99  \n",
       "1            1055.0           676.0   28     61.89  \n",
       "2             932.0           594.0  270     40.27  \n",
       "3             932.0           594.0  365     41.05  \n",
       "4             978.4           825.5  360     44.30  "
      ]
     },
     "execution_count": 2,
     "metadata": {},
     "output_type": "execute_result"
    }
   ],
   "source": [
    "df=pd.read_csv(\"concrete_data.csv\")\n",
    "df.head()"
   ]
  },
  {
   "cell_type": "markdown",
   "id": "1ad96c1e",
   "metadata": {},
   "source": [
    "Let's check how many data points we have."
   ]
  },
  {
   "cell_type": "code",
   "execution_count": 3,
   "id": "dc094491",
   "metadata": {},
   "outputs": [
    {
     "data": {
      "text/plain": [
       "(1030, 9)"
      ]
     },
     "execution_count": 3,
     "metadata": {},
     "output_type": "execute_result"
    }
   ],
   "source": [
    "df.shape"
   ]
  },
  {
   "cell_type": "markdown",
   "id": "0cf9fd2a",
   "metadata": {},
   "source": [
    "So, there are approximately 1000 samples to train our model on. \n",
    "Because of the few samples, we have to be careful not to overfit the training data.\n",
    "\n",
    "Let's check the dataset for any missing values."
   ]
  },
  {
   "cell_type": "code",
   "execution_count": 7,
   "id": "001eeb72",
   "metadata": {},
   "outputs": [
    {
     "data": {
      "text/html": [
       "<div>\n",
       "<style scoped>\n",
       "    .dataframe tbody tr th:only-of-type {\n",
       "        vertical-align: middle;\n",
       "    }\n",
       "\n",
       "    .dataframe tbody tr th {\n",
       "        vertical-align: top;\n",
       "    }\n",
       "\n",
       "    .dataframe thead th {\n",
       "        text-align: right;\n",
       "    }\n",
       "</style>\n",
       "<table border=\"1\" class=\"dataframe\">\n",
       "  <thead>\n",
       "    <tr style=\"text-align: right;\">\n",
       "      <th></th>\n",
       "      <th>Cement</th>\n",
       "      <th>Blast Furnace Slag</th>\n",
       "      <th>Fly Ash</th>\n",
       "      <th>Water</th>\n",
       "      <th>Superplasticizer</th>\n",
       "      <th>Coarse Aggregate</th>\n",
       "      <th>Fine Aggregate</th>\n",
       "      <th>Age</th>\n",
       "      <th>Strength</th>\n",
       "    </tr>\n",
       "  </thead>\n",
       "  <tbody>\n",
       "    <tr>\n",
       "      <th>count</th>\n",
       "      <td>1030.000000</td>\n",
       "      <td>1030.000000</td>\n",
       "      <td>1030.000000</td>\n",
       "      <td>1030.000000</td>\n",
       "      <td>1030.000000</td>\n",
       "      <td>1030.000000</td>\n",
       "      <td>1030.000000</td>\n",
       "      <td>1030.000000</td>\n",
       "      <td>1030.000000</td>\n",
       "    </tr>\n",
       "    <tr>\n",
       "      <th>mean</th>\n",
       "      <td>281.167864</td>\n",
       "      <td>73.895825</td>\n",
       "      <td>54.188350</td>\n",
       "      <td>181.567282</td>\n",
       "      <td>6.204660</td>\n",
       "      <td>972.918932</td>\n",
       "      <td>773.580485</td>\n",
       "      <td>45.662136</td>\n",
       "      <td>35.817961</td>\n",
       "    </tr>\n",
       "    <tr>\n",
       "      <th>std</th>\n",
       "      <td>104.506364</td>\n",
       "      <td>86.279342</td>\n",
       "      <td>63.997004</td>\n",
       "      <td>21.354219</td>\n",
       "      <td>5.973841</td>\n",
       "      <td>77.753954</td>\n",
       "      <td>80.175980</td>\n",
       "      <td>63.169912</td>\n",
       "      <td>16.705742</td>\n",
       "    </tr>\n",
       "    <tr>\n",
       "      <th>min</th>\n",
       "      <td>102.000000</td>\n",
       "      <td>0.000000</td>\n",
       "      <td>0.000000</td>\n",
       "      <td>121.800000</td>\n",
       "      <td>0.000000</td>\n",
       "      <td>801.000000</td>\n",
       "      <td>594.000000</td>\n",
       "      <td>1.000000</td>\n",
       "      <td>2.330000</td>\n",
       "    </tr>\n",
       "    <tr>\n",
       "      <th>25%</th>\n",
       "      <td>192.375000</td>\n",
       "      <td>0.000000</td>\n",
       "      <td>0.000000</td>\n",
       "      <td>164.900000</td>\n",
       "      <td>0.000000</td>\n",
       "      <td>932.000000</td>\n",
       "      <td>730.950000</td>\n",
       "      <td>7.000000</td>\n",
       "      <td>23.710000</td>\n",
       "    </tr>\n",
       "    <tr>\n",
       "      <th>50%</th>\n",
       "      <td>272.900000</td>\n",
       "      <td>22.000000</td>\n",
       "      <td>0.000000</td>\n",
       "      <td>185.000000</td>\n",
       "      <td>6.400000</td>\n",
       "      <td>968.000000</td>\n",
       "      <td>779.500000</td>\n",
       "      <td>28.000000</td>\n",
       "      <td>34.445000</td>\n",
       "    </tr>\n",
       "    <tr>\n",
       "      <th>75%</th>\n",
       "      <td>350.000000</td>\n",
       "      <td>142.950000</td>\n",
       "      <td>118.300000</td>\n",
       "      <td>192.000000</td>\n",
       "      <td>10.200000</td>\n",
       "      <td>1029.400000</td>\n",
       "      <td>824.000000</td>\n",
       "      <td>56.000000</td>\n",
       "      <td>46.135000</td>\n",
       "    </tr>\n",
       "    <tr>\n",
       "      <th>max</th>\n",
       "      <td>540.000000</td>\n",
       "      <td>359.400000</td>\n",
       "      <td>200.100000</td>\n",
       "      <td>247.000000</td>\n",
       "      <td>32.200000</td>\n",
       "      <td>1145.000000</td>\n",
       "      <td>992.600000</td>\n",
       "      <td>365.000000</td>\n",
       "      <td>82.600000</td>\n",
       "    </tr>\n",
       "  </tbody>\n",
       "</table>\n",
       "</div>"
      ],
      "text/plain": [
       "            Cement  Blast Furnace Slag      Fly Ash        Water  \\\n",
       "count  1030.000000         1030.000000  1030.000000  1030.000000   \n",
       "mean    281.167864           73.895825    54.188350   181.567282   \n",
       "std     104.506364           86.279342    63.997004    21.354219   \n",
       "min     102.000000            0.000000     0.000000   121.800000   \n",
       "25%     192.375000            0.000000     0.000000   164.900000   \n",
       "50%     272.900000           22.000000     0.000000   185.000000   \n",
       "75%     350.000000          142.950000   118.300000   192.000000   \n",
       "max     540.000000          359.400000   200.100000   247.000000   \n",
       "\n",
       "       Superplasticizer  Coarse Aggregate  Fine Aggregate          Age  \\\n",
       "count       1030.000000       1030.000000     1030.000000  1030.000000   \n",
       "mean           6.204660        972.918932      773.580485    45.662136   \n",
       "std            5.973841         77.753954       80.175980    63.169912   \n",
       "min            0.000000        801.000000      594.000000     1.000000   \n",
       "25%            0.000000        932.000000      730.950000     7.000000   \n",
       "50%            6.400000        968.000000      779.500000    28.000000   \n",
       "75%           10.200000       1029.400000      824.000000    56.000000   \n",
       "max           32.200000       1145.000000      992.600000   365.000000   \n",
       "\n",
       "          Strength  \n",
       "count  1030.000000  \n",
       "mean     35.817961  \n",
       "std      16.705742  \n",
       "min       2.330000  \n",
       "25%      23.710000  \n",
       "50%      34.445000  \n",
       "75%      46.135000  \n",
       "max      82.600000  "
      ]
     },
     "execution_count": 7,
     "metadata": {},
     "output_type": "execute_result"
    }
   ],
   "source": [
    "df.describe()"
   ]
  },
  {
   "cell_type": "code",
   "execution_count": 8,
   "id": "d253664b",
   "metadata": {},
   "outputs": [
    {
     "data": {
      "text/plain": [
       "Cement                0\n",
       "Blast Furnace Slag    0\n",
       "Fly Ash               0\n",
       "Water                 0\n",
       "Superplasticizer      0\n",
       "Coarse Aggregate      0\n",
       "Fine Aggregate        0\n",
       "Age                   0\n",
       "Strength              0\n",
       "dtype: int64"
      ]
     },
     "execution_count": 8,
     "metadata": {},
     "output_type": "execute_result"
    }
   ],
   "source": [
    "df.isnull().sum()"
   ]
  },
  {
   "cell_type": "markdown",
   "id": "39c46f4d",
   "metadata": {},
   "source": [
    "The data is ready to be used to build our model."
   ]
  },
  {
   "cell_type": "markdown",
   "id": "e3e1e94b",
   "metadata": {},
   "source": [
    "### Split data into predictors and target"
   ]
  },
  {
   "cell_type": "markdown",
   "id": "13a311e1",
   "metadata": {},
   "source": [
    "The target variable in this problem is the concrete sample strength. Therefore, our predictors will be all the other columns."
   ]
  },
  {
   "cell_type": "code",
   "execution_count": 9,
   "id": "88519411",
   "metadata": {},
   "outputs": [],
   "source": [
    "concrete_data_columns = df.columns\n",
    "predictors = df[concrete_data_columns[concrete_data_columns != 'Strength']] # all columns except Strength\n",
    "target = df['Strength']"
   ]
  },
  {
   "cell_type": "markdown",
   "id": "567d7fef",
   "metadata": {},
   "source": [
    "Let's do a check of the predictors and the target dataframes."
   ]
  },
  {
   "cell_type": "code",
   "execution_count": 10,
   "id": "7855414e",
   "metadata": {},
   "outputs": [
    {
     "data": {
      "text/html": [
       "<div>\n",
       "<style scoped>\n",
       "    .dataframe tbody tr th:only-of-type {\n",
       "        vertical-align: middle;\n",
       "    }\n",
       "\n",
       "    .dataframe tbody tr th {\n",
       "        vertical-align: top;\n",
       "    }\n",
       "\n",
       "    .dataframe thead th {\n",
       "        text-align: right;\n",
       "    }\n",
       "</style>\n",
       "<table border=\"1\" class=\"dataframe\">\n",
       "  <thead>\n",
       "    <tr style=\"text-align: right;\">\n",
       "      <th></th>\n",
       "      <th>Cement</th>\n",
       "      <th>Blast Furnace Slag</th>\n",
       "      <th>Fly Ash</th>\n",
       "      <th>Water</th>\n",
       "      <th>Superplasticizer</th>\n",
       "      <th>Coarse Aggregate</th>\n",
       "      <th>Fine Aggregate</th>\n",
       "      <th>Age</th>\n",
       "    </tr>\n",
       "  </thead>\n",
       "  <tbody>\n",
       "    <tr>\n",
       "      <th>0</th>\n",
       "      <td>540.0</td>\n",
       "      <td>0.0</td>\n",
       "      <td>0.0</td>\n",
       "      <td>162.0</td>\n",
       "      <td>2.5</td>\n",
       "      <td>1040.0</td>\n",
       "      <td>676.0</td>\n",
       "      <td>28</td>\n",
       "    </tr>\n",
       "    <tr>\n",
       "      <th>1</th>\n",
       "      <td>540.0</td>\n",
       "      <td>0.0</td>\n",
       "      <td>0.0</td>\n",
       "      <td>162.0</td>\n",
       "      <td>2.5</td>\n",
       "      <td>1055.0</td>\n",
       "      <td>676.0</td>\n",
       "      <td>28</td>\n",
       "    </tr>\n",
       "    <tr>\n",
       "      <th>2</th>\n",
       "      <td>332.5</td>\n",
       "      <td>142.5</td>\n",
       "      <td>0.0</td>\n",
       "      <td>228.0</td>\n",
       "      <td>0.0</td>\n",
       "      <td>932.0</td>\n",
       "      <td>594.0</td>\n",
       "      <td>270</td>\n",
       "    </tr>\n",
       "    <tr>\n",
       "      <th>3</th>\n",
       "      <td>332.5</td>\n",
       "      <td>142.5</td>\n",
       "      <td>0.0</td>\n",
       "      <td>228.0</td>\n",
       "      <td>0.0</td>\n",
       "      <td>932.0</td>\n",
       "      <td>594.0</td>\n",
       "      <td>365</td>\n",
       "    </tr>\n",
       "    <tr>\n",
       "      <th>4</th>\n",
       "      <td>198.6</td>\n",
       "      <td>132.4</td>\n",
       "      <td>0.0</td>\n",
       "      <td>192.0</td>\n",
       "      <td>0.0</td>\n",
       "      <td>978.4</td>\n",
       "      <td>825.5</td>\n",
       "      <td>360</td>\n",
       "    </tr>\n",
       "  </tbody>\n",
       "</table>\n",
       "</div>"
      ],
      "text/plain": [
       "   Cement  Blast Furnace Slag  Fly Ash  Water  Superplasticizer  \\\n",
       "0   540.0                 0.0      0.0  162.0               2.5   \n",
       "1   540.0                 0.0      0.0  162.0               2.5   \n",
       "2   332.5               142.5      0.0  228.0               0.0   \n",
       "3   332.5               142.5      0.0  228.0               0.0   \n",
       "4   198.6               132.4      0.0  192.0               0.0   \n",
       "\n",
       "   Coarse Aggregate  Fine Aggregate  Age  \n",
       "0            1040.0           676.0   28  \n",
       "1            1055.0           676.0   28  \n",
       "2             932.0           594.0  270  \n",
       "3             932.0           594.0  365  \n",
       "4             978.4           825.5  360  "
      ]
     },
     "execution_count": 10,
     "metadata": {},
     "output_type": "execute_result"
    }
   ],
   "source": [
    "predictors.head()"
   ]
  },
  {
   "cell_type": "code",
   "execution_count": 11,
   "id": "e3abd2a0",
   "metadata": {},
   "outputs": [
    {
     "data": {
      "text/plain": [
       "0    79.99\n",
       "1    61.89\n",
       "2    40.27\n",
       "3    41.05\n",
       "4    44.30\n",
       "Name: Strength, dtype: float64"
      ]
     },
     "execution_count": 11,
     "metadata": {},
     "output_type": "execute_result"
    }
   ],
   "source": [
    "target.head()"
   ]
  },
  {
   "cell_type": "code",
   "execution_count": 13,
   "id": "a5c82db5",
   "metadata": {},
   "outputs": [
    {
     "data": {
      "text/plain": [
       "8"
      ]
     },
     "execution_count": 13,
     "metadata": {},
     "output_type": "execute_result"
    }
   ],
   "source": [
    "n_cols=predictors_norm.shape[1]\n",
    "n_cols"
   ]
  },
  {
   "cell_type": "markdown",
   "id": "db569158",
   "metadata": {},
   "source": [
    "### Import Keras"
   ]
  },
  {
   "cell_type": "code",
   "execution_count": 14,
   "id": "f42164bf",
   "metadata": {},
   "outputs": [],
   "source": [
    "import keras"
   ]
  },
  {
   "cell_type": "code",
   "execution_count": 15,
   "id": "0b256cb1",
   "metadata": {},
   "outputs": [],
   "source": [
    "from keras.models import Sequential\n",
    "from keras.layers import Dense"
   ]
  },
  {
   "cell_type": "code",
   "execution_count": 16,
   "id": "3f28bb76",
   "metadata": {},
   "outputs": [],
   "source": [
    "def regression_model():\n",
    "    # create model\n",
    "    model = Sequential()\n",
    "    model.add(Dense(10, activation='relu', input_shape=(n_cols,)))\n",
    "    model.add(Dense(1))\n",
    "    \n",
    "    # compile model\n",
    "    model.compile(optimizer='adam', loss='mean_squared_error')\n",
    "    return model"
   ]
  },
  {
   "cell_type": "markdown",
   "id": "d0c61624",
   "metadata": {},
   "source": [
    "The regression_model function creates a model that has one hidden layer with 10 neurons and a ReLU activation function. It uses the adam optimizer and the mean squared error as the loss function."
   ]
  },
  {
   "cell_type": "code",
   "execution_count": 17,
   "id": "cfab360f",
   "metadata": {},
   "outputs": [],
   "source": [
    "from sklearn.model_selection import train_test_split"
   ]
  },
  {
   "cell_type": "markdown",
   "id": "8d5d32d6",
   "metadata": {},
   "source": [
    "Randomly splitting the data into a training and test sets by holding 30% of the data for testing"
   ]
  },
  {
   "cell_type": "code",
   "execution_count": 18,
   "id": "184cc8f4",
   "metadata": {},
   "outputs": [],
   "source": [
    "X_train, X_test, y_train, y_test = train_test_split(predictors_norm, target, test_size=0.3, random_state=42)"
   ]
  },
  {
   "cell_type": "markdown",
   "id": "a3278720",
   "metadata": {},
   "source": [
    "### Train the Model"
   ]
  },
  {
   "cell_type": "markdown",
   "id": "5a0814a8",
   "metadata": {},
   "source": [
    "Let's create our model."
   ]
  },
  {
   "cell_type": "code",
   "execution_count": 19,
   "id": "8951ce35",
   "metadata": {},
   "outputs": [],
   "source": [
    "# build the model\n",
    "model = regression_model()"
   ]
  },
  {
   "cell_type": "markdown",
   "id": "0f82bb17",
   "metadata": {},
   "source": [
    "Train the model on the training data using 50 epochs."
   ]
  },
  {
   "cell_type": "code",
   "execution_count": 20,
   "id": "211587d9",
   "metadata": {},
   "outputs": [
    {
     "name": "stdout",
     "output_type": "stream",
     "text": [
      "Epoch 1/50\n",
      "23/23 [==============================] - 1s 1ms/step - loss: 1507.7533\n",
      "Epoch 2/50\n",
      "23/23 [==============================] - 0s 1ms/step - loss: 1491.3955\n",
      "Epoch 3/50\n",
      "23/23 [==============================] - 0s 931us/step - loss: 1474.4178\n",
      "Epoch 4/50\n",
      "23/23 [==============================] - 0s 1ms/step - loss: 1456.4490\n",
      "Epoch 5/50\n",
      "23/23 [==============================] - 0s 1ms/step - loss: 1437.4714\n",
      "Epoch 6/50\n",
      "23/23 [==============================] - 0s 1ms/step - loss: 1417.4454\n",
      "Epoch 7/50\n",
      "23/23 [==============================] - 0s 1ms/step - loss: 1396.1115\n",
      "Epoch 8/50\n",
      "23/23 [==============================] - 0s 1ms/step - loss: 1373.3788\n",
      "Epoch 9/50\n",
      "23/23 [==============================] - 0s 1ms/step - loss: 1349.1237\n",
      "Epoch 10/50\n",
      "23/23 [==============================] - 0s 1ms/step - loss: 1323.4474\n",
      "Epoch 11/50\n",
      "23/23 [==============================] - 0s 1ms/step - loss: 1296.1190\n",
      "Epoch 12/50\n",
      "23/23 [==============================] - 0s 1ms/step - loss: 1266.8832\n",
      "Epoch 13/50\n",
      "23/23 [==============================] - 0s 2ms/step - loss: 1236.4897\n",
      "Epoch 14/50\n",
      "23/23 [==============================] - 0s 2ms/step - loss: 1203.8751\n",
      "Epoch 15/50\n",
      "23/23 [==============================] - 0s 2ms/step - loss: 1169.9340\n",
      "Epoch 16/50\n",
      "23/23 [==============================] - 0s 2ms/step - loss: 1134.2870\n",
      "Epoch 17/50\n",
      "23/23 [==============================] - 0s 1ms/step - loss: 1097.8043\n",
      "Epoch 18/50\n",
      "23/23 [==============================] - 0s 1ms/step - loss: 1060.0728\n",
      "Epoch 19/50\n",
      "23/23 [==============================] - 0s 1ms/step - loss: 1021.2910\n",
      "Epoch 20/50\n",
      "23/23 [==============================] - 0s 1ms/step - loss: 982.5543\n",
      "Epoch 21/50\n",
      "23/23 [==============================] - 0s 1ms/step - loss: 942.7745\n",
      "Epoch 22/50\n",
      "23/23 [==============================] - 0s 1ms/step - loss: 903.8284\n",
      "Epoch 23/50\n",
      "23/23 [==============================] - 0s 1ms/step - loss: 864.2533\n",
      "Epoch 24/50\n",
      "23/23 [==============================] - 0s 1ms/step - loss: 825.4292\n",
      "Epoch 25/50\n",
      "23/23 [==============================] - 0s 1ms/step - loss: 786.9341\n",
      "Epoch 26/50\n",
      "23/23 [==============================] - 0s 1ms/step - loss: 749.6212\n",
      "Epoch 27/50\n",
      "23/23 [==============================] - 0s 1ms/step - loss: 712.6592\n",
      "Epoch 28/50\n",
      "23/23 [==============================] - 0s 1ms/step - loss: 677.8976\n",
      "Epoch 29/50\n",
      "23/23 [==============================] - 0s 1ms/step - loss: 643.7323\n",
      "Epoch 30/50\n",
      "23/23 [==============================] - 0s 1ms/step - loss: 611.2183\n",
      "Epoch 31/50\n",
      "23/23 [==============================] - 0s 1ms/step - loss: 579.9364\n",
      "Epoch 32/50\n",
      "23/23 [==============================] - 0s 1ms/step - loss: 550.2052\n",
      "Epoch 33/50\n",
      "23/23 [==============================] - 0s 1ms/step - loss: 521.9124\n",
      "Epoch 34/50\n",
      "23/23 [==============================] - 0s 1ms/step - loss: 495.1992\n",
      "Epoch 35/50\n",
      "23/23 [==============================] - 0s 1ms/step - loss: 470.6060\n",
      "Epoch 36/50\n",
      "23/23 [==============================] - 0s 1ms/step - loss: 446.8010\n",
      "Epoch 37/50\n",
      "23/23 [==============================] - 0s 1ms/step - loss: 425.3761\n",
      "Epoch 38/50\n",
      "23/23 [==============================] - 0s 1ms/step - loss: 405.4154\n",
      "Epoch 39/50\n",
      "23/23 [==============================] - 0s 1ms/step - loss: 386.7545\n",
      "Epoch 40/50\n",
      "23/23 [==============================] - 0s 1ms/step - loss: 369.4429\n",
      "Epoch 41/50\n",
      "23/23 [==============================] - 0s 1ms/step - loss: 353.8765\n",
      "Epoch 42/50\n",
      "23/23 [==============================] - 0s 2ms/step - loss: 339.2688\n",
      "Epoch 43/50\n",
      "23/23 [==============================] - 0s 1ms/step - loss: 326.1385\n",
      "Epoch 44/50\n",
      "23/23 [==============================] - 0s 1ms/step - loss: 314.1578\n",
      "Epoch 45/50\n",
      "23/23 [==============================] - 0s 1ms/step - loss: 303.3118\n",
      "Epoch 46/50\n",
      "23/23 [==============================] - 0s 1ms/step - loss: 293.2308\n",
      "Epoch 47/50\n",
      "23/23 [==============================] - 0s 2ms/step - loss: 284.4484\n",
      "Epoch 48/50\n",
      "23/23 [==============================] - 0s 1ms/step - loss: 276.1770\n",
      "Epoch 49/50\n",
      "23/23 [==============================] - 0s 1ms/step - loss: 268.7878\n",
      "Epoch 50/50\n",
      "23/23 [==============================] - 0s 1ms/step - loss: 261.7906\n"
     ]
    },
    {
     "data": {
      "text/plain": [
       "<keras.callbacks.History at 0x24f970be190>"
      ]
     },
     "execution_count": 20,
     "metadata": {},
     "output_type": "execute_result"
    }
   ],
   "source": [
    "epochs = 50\n",
    "model.fit(X_train, y_train, epochs=epochs, verbose=1)"
   ]
  },
  {
   "cell_type": "markdown",
   "id": "3983015d",
   "metadata": {},
   "source": [
    "Evaluate the model on the test data "
   ]
  },
  {
   "cell_type": "code",
   "execution_count": 21,
   "id": "4c564374",
   "metadata": {},
   "outputs": [
    {
     "name": "stdout",
     "output_type": "stream",
     "text": [
      "10/10 [==============================] - 0s 2ms/step - loss: 242.2940\n",
      "10/10 [==============================] - 0s 1ms/step\n"
     ]
    },
    {
     "data": {
      "text/plain": [
       "242.2939910888672"
      ]
     },
     "execution_count": 21,
     "metadata": {},
     "output_type": "execute_result"
    }
   ],
   "source": [
    "loss_val = model.evaluate(X_test, y_test)\n",
    "y_pred = model.predict(X_test)\n",
    "loss_val"
   ]
  },
  {
   "cell_type": "code",
   "execution_count": 22,
   "id": "d509092d",
   "metadata": {},
   "outputs": [],
   "source": [
    "from sklearn.metrics import mean_squared_error"
   ]
  },
  {
   "cell_type": "markdown",
   "id": "ef242cc2",
   "metadata": {},
   "source": [
    "Compute the mean_squared_error between the predict concrete strength and the actual concrete strength"
   ]
  },
  {
   "cell_type": "code",
   "execution_count": 23,
   "id": "d3d248a0",
   "metadata": {},
   "outputs": [
    {
     "name": "stdout",
     "output_type": "stream",
     "text": [
      "242.2940002023023 0.0\n"
     ]
    }
   ],
   "source": [
    "mean_square_error = mean_squared_error(y_test, y_pred)\n",
    "mean = np.mean(mean_square_error)\n",
    "standard_deviation = np.std(mean_square_error)\n",
    "print(mean, standard_deviation)"
   ]
  },
  {
   "cell_type": "markdown",
   "id": "f3f1f496",
   "metadata": {},
   "source": [
    "Create a list of 50 mean squared errors  and report mean and the standard deviation of the mean squared errors"
   ]
  },
  {
   "cell_type": "code",
   "execution_count": 24,
   "id": "2be770d4",
   "metadata": {},
   "outputs": [
    {
     "name": "stdout",
     "output_type": "stream",
     "text": [
      "MSE 1: 141.3468017578125\n",
      "10/10 [==============================] - 0s 1ms/step\n",
      "MSE 2: 142.78341674804688\n",
      "10/10 [==============================] - 0s 2ms/step\n",
      "MSE 3: 101.7087631225586\n",
      "10/10 [==============================] - 0s 1ms/step\n",
      "MSE 4: 96.55912780761719\n",
      "10/10 [==============================] - 0s 2ms/step\n",
      "MSE 5: 87.07420349121094\n",
      "10/10 [==============================] - 0s 1ms/step\n",
      "MSE 6: 84.63990783691406\n",
      "10/10 [==============================] - 0s 1ms/step\n",
      "MSE 7: 87.24091339111328\n",
      "10/10 [==============================] - 0s 1ms/step\n",
      "MSE 8: 69.85945892333984\n",
      "10/10 [==============================] - 0s 2ms/step\n",
      "MSE 9: 71.36014556884766\n",
      "10/10 [==============================] - 0s 1ms/step\n",
      "MSE 10: 61.299137115478516\n",
      "10/10 [==============================] - 0s 1ms/step\n",
      "MSE 11: 57.55650329589844\n",
      "10/10 [==============================] - 0s 1ms/step\n",
      "MSE 12: 53.530364990234375\n",
      "10/10 [==============================] - 0s 1ms/step\n",
      "MSE 13: 59.90700912475586\n",
      "10/10 [==============================] - 0s 1ms/step\n",
      "MSE 14: 53.951053619384766\n",
      "10/10 [==============================] - 0s 2ms/step\n",
      "MSE 15: 47.50260543823242\n",
      "10/10 [==============================] - 0s 1ms/step\n",
      "MSE 16: 39.693603515625\n",
      "10/10 [==============================] - 0s 1ms/step\n",
      "MSE 17: 43.71796798706055\n",
      "10/10 [==============================] - 0s 931us/step\n",
      "MSE 18: 41.58518600463867\n",
      "10/10 [==============================] - 0s 1ms/step\n",
      "MSE 19: 41.19272994995117\n",
      "10/10 [==============================] - 0s 1ms/step\n",
      "MSE 20: 42.897003173828125\n",
      "10/10 [==============================] - 0s 1ms/step\n",
      "MSE 21: 40.62035369873047\n",
      "10/10 [==============================] - 0s 2ms/step\n",
      "MSE 22: 40.5488395690918\n",
      "10/10 [==============================] - 0s 1ms/step\n",
      "MSE 23: 38.46042251586914\n",
      "10/10 [==============================] - 0s 1ms/step\n",
      "MSE 24: 40.988548278808594\n",
      "10/10 [==============================] - 0s 1ms/step\n",
      "MSE 25: 43.79781723022461\n",
      "10/10 [==============================] - 0s 2ms/step\n",
      "MSE 26: 43.08354187011719\n",
      "10/10 [==============================] - 0s 1ms/step\n",
      "MSE 27: 40.883846282958984\n",
      "10/10 [==============================] - 0s 1ms/step\n",
      "MSE 28: 40.52485275268555\n",
      "10/10 [==============================] - 0s 1ms/step\n",
      "MSE 29: 46.55608367919922\n",
      "10/10 [==============================] - 0s 941us/step\n",
      "MSE 30: 43.806697845458984\n",
      "10/10 [==============================] - 0s 1ms/step\n",
      "MSE 31: 41.86607360839844\n",
      "10/10 [==============================] - 0s 1ms/step\n",
      "MSE 32: 39.52911376953125\n",
      "10/10 [==============================] - 0s 1ms/step\n",
      "MSE 33: 38.726959228515625\n",
      "10/10 [==============================] - 0s 1ms/step\n",
      "MSE 34: 44.18952941894531\n",
      "10/10 [==============================] - 0s 1ms/step\n",
      "MSE 35: 41.89140319824219\n",
      "10/10 [==============================] - 0s 1ms/step\n",
      "MSE 36: 47.175167083740234\n",
      "10/10 [==============================] - 0s 1ms/step\n",
      "MSE 37: 41.864654541015625\n",
      "10/10 [==============================] - 0s 1ms/step\n",
      "MSE 38: 45.62808609008789\n",
      "10/10 [==============================] - 0s 996us/step\n",
      "MSE 39: 42.71072769165039\n",
      "10/10 [==============================] - 0s 1ms/step\n",
      "MSE 40: 39.011268615722656\n",
      "10/10 [==============================] - 0s 1ms/step\n",
      "MSE 41: 45.418636322021484\n",
      "10/10 [==============================] - 0s 1ms/step\n",
      "MSE 42: 38.975685119628906\n",
      "10/10 [==============================] - 0s 2ms/step\n",
      "MSE 43: 40.913978576660156\n",
      "10/10 [==============================] - 0s 1ms/step\n",
      "MSE 44: 47.1453971862793\n",
      "10/10 [==============================] - 0s 1ms/step\n",
      "MSE 45: 46.68206787109375\n",
      "10/10 [==============================] - 0s 1ms/step\n",
      "MSE 46: 47.30262756347656\n",
      "10/10 [==============================] - 0s 1ms/step\n",
      "MSE 47: 42.45851516723633\n",
      "10/10 [==============================] - 0s 889us/step\n",
      "MSE 48: 43.217464447021484\n",
      "10/10 [==============================] - 0s 1ms/step\n",
      "MSE 49: 44.945682525634766\n",
      "10/10 [==============================] - 0s 1ms/step\n",
      "MSE 50: 48.145973205566406\n",
      "10/10 [==============================] - 0s 1ms/step\n",
      "\n",
      "\n",
      "Below is the mean and standard deviation of 50 mean squared errors without normalized data. Total number of epochs for each training is: 50\n",
      "\n",
      "Mean: 54.249518753654\n",
      "Standard Deviation: 23.714695976381133\n"
     ]
    }
   ],
   "source": [
    "total_mean_squared_errors = 50\n",
    "epochs = 50\n",
    "mean_squared_errors = []\n",
    "for i in range(0, total_mean_squared_errors):\n",
    "    X_train, X_test, y_train, y_test = train_test_split(predictors_norm, target, test_size=0.3, random_state=i)\n",
    "    model.fit(X_train, y_train, epochs=epochs, verbose=0)\n",
    "    MSE = model.evaluate(X_test, y_test, verbose=0)\n",
    "    print(\"MSE \"+str(i+1)+\": \"+str(MSE))\n",
    "    y_pred = model.predict(X_test)\n",
    "    mean_square_error = mean_squared_error(y_test, y_pred)\n",
    "    mean_squared_errors.append(mean_square_error)\n",
    "\n",
    "mean_squared_errors = np.array(mean_squared_errors)\n",
    "mean = np.mean(mean_squared_errors)\n",
    "standard_deviation = np.std(mean_squared_errors)\n",
    "\n",
    "print('\\n')\n",
    "print(\"Below is the mean and standard deviation of \" +str(total_mean_squared_errors) + \" mean squared errors without normalized data. Total number of epochs for each training is: \" +str(epochs) + \"\\n\")\n",
    "print(\"Mean: \"+str(mean))\n",
    "print(\"Standard Deviation: \"+str(standard_deviation))"
   ]
  }
 ],
 "metadata": {
  "kernelspec": {
   "display_name": "Python 3 (ipykernel)",
   "language": "python",
   "name": "python3"
  },
  "language_info": {
   "codemirror_mode": {
    "name": "ipython",
    "version": 3
   },
   "file_extension": ".py",
   "mimetype": "text/x-python",
   "name": "python",
   "nbconvert_exporter": "python",
   "pygments_lexer": "ipython3",
   "version": "3.9.13"
  }
 },
 "nbformat": 4,
 "nbformat_minor": 5
}
